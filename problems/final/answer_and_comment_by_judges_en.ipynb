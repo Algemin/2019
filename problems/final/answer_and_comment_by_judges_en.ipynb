{
 "cells": [
  {
   "cell_type": "markdown",
   "metadata": {},
   "source": [
    "<img src=\"logo2.png\"></img>\n",
    "\n",
    "# The Final Challenge: Sample Solution & Honorary Mentions"
   ]
  },
  {
   "cell_type": "markdown",
   "metadata": {},
   "source": [
    "# What was the final challenge about?\n",
    "Zed City is a newly established (fictitious) municipality in Tokyo and is made up of 11 districts. <br/> \n",
    "Four convenience store ( _konbini_ ) chains A, B, C and D have each established their first store in this new city in non-overlapping districts.\n",
    "The map (or graph) below shows the 11 districts of Zed City and which district has a konbini already.\n",
    "<img src=\"./tokyo_map_pic.png\" width=\"700\">\n",
    "As the mayor of Zed City, you want to establish konbinis in the rest of the districts that still don't have one yet.<br/>\n",
    "Upon your request, all four konbini chains discussed with each other and agreed to establish their konbinis in Zed City under the following two conditions:\n",
    "\n",
    "**-Only one konbini is allowed in one district.**<br/>\n",
    "**-No two adjacent districts can have konbinis from the same chain.**<br/>\n",
    "\n",
    "Can you come up with a plan that satisfies the above conditions? You must provide all store plan combinations that meet the conditions above?\n",
    "(For details of the problem, visit [final challenge](https://github.com/quantum-challenge/2019/tree/master/problems/final).)"
   ]
  },
  {
   "cell_type": "markdown",
   "metadata": {},
   "source": [
    "# A Sample Solution\n",
    "(This is only a sample solution. There are many clever ways to solve this problem as you will see in the top teams' submissions. So just remember to look at this solution literally as *a sample* and not as the only correct answer.) <br/><br/>\n",
    "The Final Challenge is larger in scale compared to any of the learning challenges, however, it can be solved with the same algorithm (Grover) we learned in week 2, which can be summarized in the following four steps.\n",
    "\n",
    "|<p align=\"left\">**Step**  |<p align=\"left\">**Content** |\n",
    "| ---     |--- |\n",
    "| Step1 |<p align=\"left\">Create a superposition of inputs|\n",
    "| Step2 |<p align=\"left\">Build an oracle according to the constraints of the problem |\n",
    "| Step3  |<p align=\"left\">Diffusion |\n",
    "| Step4  |<p align=\"left\">Measurement|"
   ]
  },
  {
   "cell_type": "markdown",
   "metadata": {},
   "source": [
    "## Quantum Registers\n",
    "Let's take a look at an example of how we can assign our inputs into our quantum registers. \n",
    "\n",
    "|Qubit|Number of qubits|Assignment|\n",
    "|:---:|:---:|:---:|\n",
    "|q[0]-q[13]|14|To store konbini info. for all 7 empty districts ($\\log_2{4}$ per district)|\n",
    "|q[14]-q[26]|13|Data storage inside oracle|\n",
    "|q[27]|1|To store the oracle result|\n",
    "|q[28]-q[31]|4|Ancilla qubits for oracle|\n"
   ]
  },
  {
   "cell_type": "markdown",
   "metadata": {},
   "source": [
    "## Step1: Create a superposition of inputs"
   ]
  },
  {
   "cell_type": "code",
   "execution_count": 1,
   "metadata": {},
   "outputs": [],
   "source": [
    "#prepare our quantum circuit by importing relevant modules\n",
    "import numpy as np\n",
    "from qiskit import QuantumRegister, ClassicalRegister, QuantumCircuit\n",
    "from qiskit import IBMQ, execute\n",
    "\n",
    "qr = QuantumRegister(32)\n",
    "cr = ClassicalRegister(14)\n",
    "qc = QuantumCircuit(qr,cr)"
   ]
  },
  {
   "cell_type": "markdown",
   "metadata": {},
   "source": [
    "We first create a superposition of konbinis across q[0]~q[13] for all possible combinations where A:00, B:01, C:10, D11. \n",
    "\n",
    "The first key optimization is to reduce the size of your solution space by narrowing down superposition of states in districts that already have kombinis A, B, C or D adjacent to them.\n",
    "\n",
    "For example, district 3 is neighbored by konbini A, so you can eliminate the $|00>$ state and create a superposition of $|01>$, $|10>$ and $|11>$ only to initialize this district.\n",
    "\n",
    "Similarly, district 2 is neighbored by konbini A and C thus, you can eliminate \n",
    "$|00>$ and $|10>$ and create a superposition of $|01>$ and $|11>$ only to initialize this district.\n",
    "\n",
    "Based on the same idea, you should be able to initialize each district as follows:"
   ]
  },
  {
   "cell_type": "code",
   "execution_count": 2,
   "metadata": {},
   "outputs": [],
   "source": [
    "theta = 2 * np.arccos(1 / np.sqrt(3))"
   ]
  },
  {
   "cell_type": "code",
   "execution_count": 3,
   "metadata": {},
   "outputs": [],
   "source": [
    "def initialize_districts(qc, qr):\n",
    "    #district0 A \n",
    "    qc.ry(theta,qr[0])\n",
    "    qc.ch(qr[0],qr[1])\n",
    "    qc.x(qr[1])\n",
    "\n",
    "    #district1 B\n",
    "    qc.ry(theta,qr[2])\n",
    "    qc.ch(qr[2],qr[3])\n",
    "\n",
    "    #district2 A,C\n",
    "    qc.h(qr[4])\n",
    "    qc.x(qr[5])\n",
    "\n",
    "    #district3 A\n",
    "    qc.ry(theta,qr[6])\n",
    "    qc.ch(qr[6],qr[7])\n",
    "    qc.x(qr[7])\n",
    "\n",
    "    #district4 B\n",
    "    qc.ry(theta,qr[8])\n",
    "    qc.ch(qr[8],qr[9])\n",
    "\n",
    "    #district5 D\n",
    "    qc.ry(theta,qr[10])\n",
    "    qc.ch(qr[10],qr[11])\n",
    "    qc.x(qr[10])\n",
    "\n",
    "    #district6 D\n",
    "    qc.ry(theta,qr[12])\n",
    "    qc.ch(qr[12],qr[13])\n",
    "    qc.x(qr[12])"
   ]
  },
  {
   "cell_type": "markdown",
   "metadata": {},
   "source": [
    "## Step2: Build an oracle according to the constraints of the problem"
   ]
  },
  {
   "cell_type": "markdown",
   "metadata": {},
   "source": [
    "As we have taken care of the input states for districts that have neighboring konbinis in Step 1, we can focus on the remaining districts which gives us a graph representation as follows with 13 edges. \n",
    "\n",
    "<img src=\"./fig/white_map.png\" width=\"400\"></img>"
   ]
  },
  {
   "cell_type": "code",
   "execution_count": 4,
   "metadata": {},
   "outputs": [],
   "source": [
    "edge_list = [[0,1],[0,2],[0,3],[1,3],[1,4],[2,3],[2,5],[2,6],[3,4],[3,5],[3,6],[4,6],[5,6]]"
   ]
  },
  {
   "cell_type": "markdown",
   "metadata": {},
   "source": [
    "Now let's create an oracle that checks each neighboring pair of edges whether they have a different konbini chain or not. \n",
    "\n",
    "To do this, we can create a circuit such as the one below to check if district n and its neighboring district n+1 has a different konbini chain (which is the desirable condition) or not. "
   ]
  },
  {
   "cell_type": "markdown",
   "metadata": {},
   "source": [
    "<img src=\"./fig/oracle.png\" width=\"400\"></img>"
   ]
  },
  {
   "cell_type": "markdown",
   "metadata": {},
   "source": [
    "For konbinis that include '0' in the representation of their states (e.g. A(00), B(01), C(10)), you can flip the bit, apply a ccccx gate and then flip it back again. (Note: the white dots below are the control bits that are flipped and are called negative controls.)\n",
    "\n",
    "By creating this circuit for A to D, you can check whether district n and its adjacent n+1 have a different konbini or not."
   ]
  },
  {
   "cell_type": "markdown",
   "metadata": {},
   "source": [
    "<img src=\"./fig/konbini_oracle.png\" width=\"700\"></img>"
   ]
  },
  {
   "cell_type": "markdown",
   "metadata": {},
   "source": [
    "We can in fact realize the same effect of the above circuit with the one below. (Please see the Tips section at the end of this notebook for details. Furthermore, please check if these set of circuits give you the same results using the truth table.)<br/>\n",
    "In this solution example, we will use the circuit below to check if adjacent districts have different konbini chains."
   ]
  },
  {
   "cell_type": "markdown",
   "metadata": {},
   "source": [
    "<img src=\"./fig/konbini_oracle_simple.png\" width=\"600\"></img>"
   ]
  },
  {
   "cell_type": "markdown",
   "metadata": {},
   "source": [
    "For our implementation, instead of using ccx or cccx we will use rccx and rcccx which have lower quantum costs. Using rccx and rcccx normally causes a phase shift but this can be compensated by doing an inverse during uncompute. For details about rccx and rcccx, please refer to the paper below. \n",
    "[On the advantages of using relative phase Toffolis with an application to multiple control Toffoli optimization](https://arxiv.org/pdf/1508.03273.pdf)"
   ]
  },
  {
   "cell_type": "code",
   "execution_count": 5,
   "metadata": {},
   "outputs": [],
   "source": [
    "def color_check(qc, data, district1,district2, result):\n",
    "    data_qubits = [data[district1*2], data[(district1*2)+1], data[district2*2], data[(district2*2)+1]]\n",
    "    qc.barrier()\n",
    "    qc.rccx(data_qubits[0], data_qubits[1], result)\n",
    "    qc.barrier()\n",
    "    qc.x(data_qubits[2])\n",
    "    qc.rccx(data_qubits[1], data_qubits[2], result)\n",
    "    qc.x(data_qubits[2])\n",
    "\n",
    "    qc.barrier()\n",
    "    qc.x(data_qubits[2])\n",
    "    qc.x(data_qubits[3])\n",
    "    qc.rccx(data_qubits[2], data_qubits[3], result)\n",
    "    qc.x(data_qubits[2])\n",
    "    qc.x(data_qubits[3])\n",
    "    qc.barrier()\n",
    "    \n",
    "    qc.x(data_qubits[3])    \n",
    "    qc.rccx(data_qubits[0], data_qubits[3], result)\n",
    "    qc.x(data_qubits[3])    \n",
    "    qc.barrier() "
   ]
  },
  {
   "cell_type": "code",
   "execution_count": 6,
   "metadata": {},
   "outputs": [],
   "source": [
    "def color_check_inverse(qc, data, district1,district2, result):\n",
    "    data_qubits = [data[district1*2], data[(district1*2)+1], data[district2*2], data[(district2*2)+1]]\n",
    "    \n",
    "    qc.barrier()\n",
    "    qc.x(data_qubits[3])    \n",
    "    qc.rccx(data_qubits[0], data_qubits[3], result)\n",
    "    qc.x(data_qubits[3])    \n",
    "    qc.barrier()\n",
    "    \n",
    "    qc.barrier()\n",
    "    qc.x(data_qubits[2])\n",
    "    qc.x(data_qubits[3])\n",
    "    qc.rccx(data_qubits[2], data_qubits[3], result)\n",
    "    qc.x(data_qubits[2])\n",
    "    qc.x(data_qubits[3])\n",
    "    qc.barrier()\n",
    "    \n",
    "    qc.x(data_qubits[2])\n",
    "    qc.rccx(data_qubits[1], data_qubits[2], result)\n",
    "    qc.x(data_qubits[2])\n",
    "    \n",
    "    qc.barrier()\n",
    "    qc.rccx(data_qubits[0], data_qubits[1], result)\n",
    "    qc.barrier()"
   ]
  },
  {
   "cell_type": "code",
   "execution_count": 7,
   "metadata": {},
   "outputs": [],
   "source": [
    "def rcccx_inverse(circ,control_0,control_1,control_2,target):\n",
    "    circ.u2(0, np.pi, target)  \n",
    "    circ.u1(np.pi / 4, target)  \n",
    "    circ.cx(control_2, target)\n",
    "    circ.u1(-np.pi / 4, target)\n",
    "    circ.u2(0, np.pi, target)\n",
    "    circ.u1(np.pi / 4, target)\n",
    "    circ.cx(control_1, target)\n",
    "    circ.u1(-np.pi / 4, target)\n",
    "    circ.cx(control_0, target)\n",
    "    circ.u1(np.pi / 4, target)\n",
    "    circ.cx(control_1, target)\n",
    "    circ.u1(-np.pi / 4, target)\n",
    "    circ.cx(control_0, target)\n",
    "    circ.u2(0, np.pi, target) \n",
    "    circ.u1(np.pi / 4, target)\n",
    "    circ.cx(control_2, target)\n",
    "    circ.u1(-np.pi / 4, target)\n",
    "    circ.u2(0, np.pi, target) "
   ]
  },
  {
   "cell_type": "markdown",
   "metadata": {},
   "source": [
    "Now we perform a `color_check()` against all 13 edges. We store the AND result of the `color_check()` retrieved by `mct` into the oracle phase-flip qubit. "
   ]
  },
  {
   "cell_type": "code",
   "execution_count": 8,
   "metadata": {},
   "outputs": [],
   "source": [
    "def correct_result(qc, result, anc, register):\n",
    "    # correct results of color_check() and store in anc\n",
    "    for i in range(4):\n",
    "        qc.rcccx(result[3*i], result[3*i+1], result[3*i+2], anc[i])\n",
    "        qc.barrier()\n",
    "    \n",
    "    # use cccccx that has result[13] and anc[0] to anc[3] as its control bits and register as its target bit to flip the phase of correct answers.\n",
    "    mct_control=[result[12]]+anc\n",
    "    qc.mct(mct_control, register, result[0:3], mode='basic-dirty-ancilla')\n",
    "    \n",
    "    # uncompute corrected results \n",
    "    for i in reversed(range(4)):\n",
    "        rcccx_inverse(qc,result[3*i], result[3*i+1], result[3*i+2], anc[i])\n",
    "        qc.barrier()"
   ]
  },
  {
   "cell_type": "markdown",
   "metadata": {},
   "source": [
    "Now we create an `oracle()` by combining `color_check()` and `collect_result()`. `color_check()` gives back 1 when the adjacent districts have the same konbini, so we apply the x gate to initialize `memory_for_result` to $|1>$."
   ]
  },
  {
   "cell_type": "code",
   "execution_count": 9,
   "metadata": {},
   "outputs": [],
   "source": [
    "def oracle(qc, data, result, anc, register):\n",
    "    result_index = 0\n",
    "    \n",
    "    #initialize memory_for_result to |1>\n",
    "    qc.x(result)\n",
    "        \n",
    "    #color check for each edge\n",
    "    for edge in edge_list:\n",
    "        color_check(qc, data, edge[0],edge[1], result[result_index])\n",
    "        result_index += 1\n",
    "\n",
    "    qc.barrier()\n",
    "\n",
    "    #collect results of each edge\n",
    "    correct_result(qc, result, anc, register)\n",
    "    qc.barrier()\n",
    "    \n",
    "    #inversed color check\n",
    "    result_index = 0 \n",
    "    for edge in edge_list:\n",
    "        color_check_inverse(qc, data, edge[0],edge[1], result[result_index])\n",
    "        result_index += 1\n",
    "    qc.barrier()\n",
    "    \n",
    "    #reinitilize memory_for_result to |0>\n",
    "    qc.x(result)"
   ]
  },
  {
   "cell_type": "markdown",
   "metadata": {},
   "source": [
    "## Step3: Diffusion"
   ]
  },
  {
   "cell_type": "markdown",
   "metadata": {},
   "source": [
    "As we learned in week 2, Grover's algorithm is comprised of the following two operators. \n",
    "1. Oracle Reflection $U_w$\n",
    "2. Inversion $U_s$ about the initial uniform superposition $|s>$\n",
    "\n",
    "<img src=\"./fig/step2.png\" width=\"700\">\n",
    "\n",
    "In this step, we create a diffusion circuit $U_s$ that reflects about $|s>$\n",
    "\n",
    "In week 2 we created a uniform superposition by applying the Hadamard gate but in this particular challenge, we have constraints in creating the initial state thus, the diffusion will also need some modification. \n",
    "\n",
    "Please remember that the reflection about the initial state $|s>$ can be described as $U_{s} = 2|s> <s| - I $ \n",
    "\n",
    "We denote the circuit for creating the superposition of inputs with constraints in step 1 as $U_{const}$ and apply this to our diffusion circuit.\n",
    "\n",
    "$$U_s = 2|s> <s| - I \\\\= 2U_{const}|0><0|U_{const}^\\dagger - I \\\\=-U_{const}(I-2|0><0|)U^\\dagger$$\n",
    "\n",
    "We will need a $U_{const}^\\dagger$ which is the inverse of $U_{const}$. When we apply $U_{const}^\\dagger$ to the circuit, we will get:"
   ]
  },
  {
   "cell_type": "code",
   "execution_count": 10,
   "metadata": {},
   "outputs": [],
   "source": [
    "def initialize_districts_inverse(qc, qr):\n",
    "    #district0 A inverse\n",
    "    qc.x(qr[1])\n",
    "    qc.ch(qr[0],qr[1])\n",
    "    qc.ry(-theta,qr[0])\n",
    "\n",
    "    #district1 B inverse\n",
    "    qc.ch(qr[2],qr[3])\n",
    "    qc.ry(-theta,qr[2])\n",
    "\n",
    "    #district2 A,C inverse\n",
    "    qc.x(qr[5])\n",
    "    qc.h(qr[4])\n",
    "\n",
    "    #district3 A inverse\n",
    "    qc.x(qr[7])\n",
    "    qc.ch(qr[6],qr[7])\n",
    "    qc.ry(-theta,qr[6])\n",
    "\n",
    "    #district4 B inverse\n",
    "    qc.ch(qr[8],qr[9])\n",
    "    qc.ry(-theta,qr[8])\n",
    "\n",
    "    #district5 D inverse\n",
    "    qc.x(qr[10])\n",
    "    qc.ch(qr[10],qr[11])\n",
    "    qc.ry(-theta,qr[10])\n",
    "\n",
    "    #district6 D inverse\n",
    "    qc.x(qr[12])\n",
    "    qc.ch(qr[12],qr[13])\n",
    "    qc.ry(-theta,qr[12])"
   ]
  },
  {
   "cell_type": "code",
   "execution_count": 11,
   "metadata": {},
   "outputs": [],
   "source": [
    "def inversion_about_average(circuit, register):\n",
    "    \"\"\"Apply inversion about the average step of Grover's algorithm.\"\"\"\n",
    "    initialize_districts_inverse(circuit, register)\n",
    "    circuit.x(register[0:14])\n",
    "    \n",
    "    circuit.h(register[13])\n",
    "    circuit.mct(register[0:13],register[13],register[14:26])\n",
    "    circuit.h(register[13])\n",
    "\n",
    "    circuit.x(register[0:14])\n",
    "    initialize_districts(circuit, register)"
   ]
  },
  {
   "cell_type": "markdown",
   "metadata": {},
   "source": [
    "Initialize the phase flip quantum bit and iterate the diffusion 5 times."
   ]
  },
  {
   "cell_type": "code",
   "execution_count": 12,
   "metadata": {},
   "outputs": [
    {
     "data": {
      "text/plain": [
       "<qiskit.circuit.instructionset.InstructionSet at 0x1a1e900dd8>"
      ]
     },
     "execution_count": 12,
     "metadata": {},
     "output_type": "execute_result"
    }
   ],
   "source": [
    "# Initialize \n",
    "initialize_districts(qc, qr)\n",
    "\n",
    "# Initialize a qubit for phase flip\n",
    "qc.x(qr[27])\n",
    "qc.h(qr[27])\n",
    "\n",
    "# Grover iteration\n",
    "for i in range(5):\n",
    "    oracle(qc, qr[0:14], qr[14:27], qr[28:32], qr[27])\n",
    "    inversion_about_average(qc,qr)\n",
    "\n",
    "# Uncompute\n",
    "qc.h(qr[27])\n",
    "qc.x(qr[27])"
   ]
  },
  {
   "cell_type": "markdown",
   "metadata": {},
   "source": [
    "## Step4: Measurement\n",
    "In this step, we measure the qubits where the districts are mapped to."
   ]
  },
  {
   "cell_type": "code",
   "execution_count": 13,
   "metadata": {},
   "outputs": [
    {
     "name": "stdout",
     "output_type": "stream",
     "text": [
      "CPU times: user 18.5 s, sys: 737 ms, total: 19.3 s\n",
      "Wall time: 1h 19min 20s\n"
     ]
    }
   ],
   "source": [
    "%%time\n",
    "qc.measure(qr[0:14],cr[0:14])\n",
    "\n",
    "provider = IBMQ.load_account()\n",
    "backend = provider.get_backend('ibmq_qasm_simulator')\n",
    "job = execute(qc, backend=backend, shots=8000, seed_simulator=12345, backend_options={\"fusion_enable\":True})\n",
    "result = job.result()\n",
    "count = result.get_counts()"
   ]
  },
  {
   "cell_type": "markdown",
   "metadata": {},
   "source": [
    "The measurement scores grow very large, so we sort the score and extract the top 15 results. "
   ]
  },
  {
   "cell_type": "code",
   "execution_count": 14,
   "metadata": {},
   "outputs": [
    {
     "data": {
      "text/plain": [
       "[('00010111100001', 546),\n",
       " ('00011110110001', 531),\n",
       " ('01001110110001', 523),\n",
       " ('10000001111110', 523),\n",
       " ('00010110111101', 515),\n",
       " ('01000010111101', 509),\n",
       " ('00010110110001', 506),\n",
       " ('00101101110010', 501),\n",
       " ('10001101110010', 496),\n",
       " ('00000001110101', 9),\n",
       " ('01010101110001', 8),\n",
       " ('00100011110011', 8),\n",
       " ('10000001100110', 8),\n",
       " ('00010001101111', 8),\n",
       " ('01010111110110', 7)]"
      ]
     },
     "execution_count": 14,
     "metadata": {},
     "output_type": "execute_result"
    }
   ],
   "source": [
    "score_sorted = sorted(count.items(), key=lambda x:x[1], reverse=True)\n",
    "final_score = score_sorted[0:15]\n",
    "final_score"
   ]
  },
  {
   "cell_type": "markdown",
   "metadata": {},
   "source": [
    "Here you will see nine results showing amplitude amplification predominantly. We collect the answers with the 9 highest probabilities."
   ]
  },
  {
   "cell_type": "code",
   "execution_count": 15,
   "metadata": {},
   "outputs": [
    {
     "data": {
      "text/plain": [
       "[['01013232013', 496],\n",
       " ['01013232103', 501],\n",
       " ['01313202013', 523],\n",
       " ['02011322203', 546],\n",
       " ['02013122203', 506],\n",
       " ['02013132023', 523],\n",
       " ['02013132203', 531],\n",
       " ['02313102023', 509],\n",
       " ['02313122203', 515]]"
      ]
     },
     "execution_count": 15,
     "metadata": {},
     "output_type": "execute_result"
    }
   ],
   "source": [
    "#sort count\n",
    "count_sorted = sorted(count.items(), key=lambda x:x[1], reverse=True)\n",
    "\n",
    "# collect answers with Top 9 probabilities\n",
    "ans_list = count_sorted[0:9]\n",
    "\n",
    "# reverse ans_list\n",
    "ans_reversed = []\n",
    "for i in ans_list:\n",
    "    ans_temp=[i[0][::-1],i[1]]\n",
    "    ans_reversed.append(ans_temp)\n",
    "\n",
    "# convert each 2 bits into corresponding color. Add node0(0),node3(1),node8(2) and node11(3)\n",
    "ans_shaped = []\n",
    "for j in ans_reversed:\n",
    "    ans_temp=j[0]\n",
    "    nodeA = 0\n",
    "    node0 = int(ans_temp[0] + ans_temp[1], 2)\n",
    "    node1 = int(ans_temp[2] + ans_temp[3], 2)\n",
    "    nodeB = 1\n",
    "    node2 = int(ans_temp[4] + ans_temp[5], 2)\n",
    "    node3 = int(ans_temp[6] + ans_temp[7], 2)\n",
    "    node4 = int(ans_temp[8] + ans_temp[9], 2)\n",
    "    nodeC = 2\n",
    "    node5 = int(ans_temp[10] + ans_temp[11], 2)\n",
    "    node6 = int(ans_temp[12] + ans_temp[13], 2)\n",
    "    nodeD = 3\n",
    "    nodes_color = str(nodeA) + str(node0) + str(node1) + str(nodeB) + str(node2) + str(node3) + str(node4) + str(nodeC) + str(node5) + str(node6) + str(nodeD) \n",
    "    ans_shaped.append([nodes_color,j[1]])\n",
    "sorted(ans_shaped)"
   ]
  },
  {
   "cell_type": "markdown",
   "metadata": {},
   "source": [
    "Color the districts based on your results and you can verify that you got it right! Congratulations!\n",
    "<img src=\"./fig/all_answers.png\" width=\"600\"></img>"
   ]
  },
  {
   "cell_type": "code",
   "execution_count": 16,
   "metadata": {},
   "outputs": [
    {
     "name": "stdout",
     "output_type": "stream",
     "text": [
      "OrderedDict([('u3', 6507), ('cx', 2416), ('barrier', 770), ('measure', 14)])\n"
     ]
    }
   ],
   "source": [
    "import json\n",
    "from qiskit.transpiler import PassManager\n",
    "from qiskit.transpiler.passes import Unroller\n",
    "\n",
    "# Unroll the circuit\n",
    "pass_ = Unroller(['u3', 'cx'])\n",
    "pm = PassManager(pass_)\n",
    "new_circuit = pm.run(qc) \n",
    "\n",
    "# obtain gates\n",
    "gates=new_circuit.count_ops()\n",
    "print(gates)"
   ]
  },
  {
   "cell_type": "code",
   "execution_count": 17,
   "metadata": {},
   "outputs": [
    {
     "name": "stdout",
     "output_type": "stream",
     "text": [
      "30667\n"
     ]
    }
   ],
   "source": [
    "cost=gates['u3'] + 10*gates['cx']\n",
    "print(cost)"
   ]
  },
  {
   "cell_type": "markdown",
   "metadata": {},
   "source": [
    "The quantum cost of the circuit in this particular example is $30667$."
   ]
  },
  {
   "cell_type": "markdown",
   "metadata": {},
   "source": [
    "## TIPS\n",
    "To replace the four ccccx by four ccx in `color_check()`, you can map a 4bit gray code into a hypercube. （Please refer to [Hamming distance](https://en.wikipedia.org/wiki/Hamming_distance) for details）\n",
    "<img src=\"./fig/4bit_hyper_cube.png\" width=\"600\"></img>\n",
    "\n",
    "Let's take a look at this hypercube. Here, the four ccccx gates which were defined to check if a certain konbini chain was present in adjacent districts will each correspond to coloring vertex 0000, 0101, 1010, and 1111 of this hypercube. A single ccx gate will correspond to coloring a single plane of a hypercube so, if you can find out the appropriate combination of planes (note: vertices that share even number of planes cancel out each other and cannot be colored), you can replace your four ccccx gates with four ccx gates. Check and see that the following combination of planes would allow you to color 0000, 0101, 1010, 1111 with the right konbinis (colors). Please note that other vertices are not colored because they share an even number of planes. \n",
    "<img src=\"./fig/hyper_cube_ccx.png\" width=\"600\"></img>\n",
    "\n",
    "Ccx gates for each corresponding plane is as follows:\n",
    "<img src=\"./fig/konbini_oracle_hyper_cube.png\" width=\"500\"></img>"
   ]
  },
  {
   "cell_type": "markdown",
   "metadata": {},
   "source": [
    "## Honorary Mentions\n",
    "The judges would like to make honorary mentions of the following teams which were able to achieve exceptional results.\n",
    "\n",
    "**The Winning Teams:**\n",
    "* First Place Team: **Whit3z**: cost = $16613$  \n",
    "This team has successfully realized a smaller oracle by identifying which districts need only a simple check. From collapsing multiple single-qubits into u3 gates to defining a margolus gate, team Whit3z successfully optimized their circuit to the fine details. Team whit3z was also one of the first teams to submit their code where the cost was initially 164749 but within a week reduced the gate cost to a tenth which was very impressive.  \n",
    "* Second Place Team: **QunaVillage**: cost = $17053$  \n",
    "Team QunaVillage reduced the number of qubits for storing district info. and reduced the solution space effectively. Their technique to check multiple edges at once was also very clever.   \n",
    "* Third Place Team: **IIQ@QIC**: cost = $25490$   \n",
    "An oracle that simultaneously checks edges that does not share the same node was designed effectively. Optimization is applied across the circuit in detail such as in the initialization, corresponding diffusion, and in minimizing u3 gates. <br/>\n",
    "\n",
    "======<br/>\n",
    "**Special Oracle Award** <br/>\n",
    "Although part of the encoding for initialization was incomplete and was not enough to generate equal probability distributions, we would like to honor and recognize two teams that have shown ingenuity and creativity in how they built their oracles and diffusion functions. The two teams are:<br/>\n",
    "* Team: **Costs > 100k**: $\\approx 15737$  \n",
    "their oracle design, which focuses on the geometric triangle of the graph, was exceptionally creative. With their oracle, they succeeded reduced the solution space dramatically. That is why the organizers have decided to award this team with a Special Oracle Award. \n",
    "* Team: **Sorin**: $\\approx 21667$  \n",
    "Team Sorin uses a unique function `equalsNoCcx()` which provides the same functionality as the color_check() we used in our example. They use only a cx gate and a x gate in this function which returns the district information back into the storage qubit based on the comparison result. This approach allows team Sorin to build an effective oracle. \n",
    "\n",
    "Judges would like to honor the above teams as well as the teams that made it into the top ten teams. Congratulations! <br/>\n",
    "**Check out the top team's submissions and write-ups [here](https://github.com/quantum-challenge/2019/tree/master/top%20ten%20submissions).**  (*We have a few latest additions in terms of the top ten. We will be reaching out to those teams and asking them to upload their submission and write-ups soon.*)\n",
    "\n",
    "Over 700 people joined IBM Quantum Challenge. We were amazed by the ingenuity and creativity of each team especially the teams mentioned above who achieved lower quantum costs beyond the judges' expectation. We were also happy to know that there were many individuals out there who joined this challenge perhaps not necessarily to compete but to learn quantum computation and new techniques. We hope you had as much fun as we did on this wild ride. "
   ]
  },
  {
   "cell_type": "markdown",
   "metadata": {},
   "source": [
    "Once again, a **BIG THANK YOU to all the teams and individuals who have participated in this challenge.** <br/>Until we meet again. <br/>\n",
    "\n",
    "Judges and organizers, IBM Quantum Challenge"
   ]
  }
 ],
 "metadata": {
  "kernelspec": {
   "display_name": "Python 3",
   "language": "python",
   "name": "python3"
  },
  "language_info": {
   "codemirror_mode": {
    "name": "ipython",
    "version": 3
   },
   "file_extension": ".py",
   "mimetype": "text/x-python",
   "name": "python",
   "nbconvert_exporter": "python",
   "pygments_lexer": "ipython3",
   "version": "3.7.4"
  }
 },
 "nbformat": 4,
 "nbformat_minor": 4
}
