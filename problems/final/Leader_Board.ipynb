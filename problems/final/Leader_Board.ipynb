{
 "cells": [
  {
   "cell_type": "markdown",
   "metadata": {},
   "source": [
    "<img src=\"logo2.png\"></img>"
   ]
  },
  {
   "cell_type": "markdown",
   "metadata": {},
   "source": [
    "# IBM Quantum Challenge 2019 \n",
    "# Final Challenge Leaderboard"
   ]
  },
  {
   "cell_type": "markdown",
   "metadata": {},
   "source": [
    "### The following shows the current standings of contestants (as of 2019/10/10 21:00 JST)"
   ]
  },
  {
   "cell_type": "markdown",
   "metadata": {},
   "source": [
    "<table border=\"1\" class=\"dataframe\" width=\"100%\">\n",
    "  <thead>\n",
    "    <tr style=\"text-align: right;\">\n",
    "      <th>ranking</th>\n",
    "      <th>team_name</th>\n",
    "      <th>status</th>\n",
    "      <th>cost</th>\n",
    "      <th>number_of_submission</th>\n",
    "      <th width=\"40%\">message</th>\n",
    "    </tr>\n",
    "  </thead>\n",
    "  <tbody>\n",
    "    <tr>\n",
    "      <td>1</td>\n",
    "      <td>xenoicwyce</td>\n",
    "      <td>pass</td>\n",
    "      <td>55536</td>\n",
    "      <td>1</td>\n",
    "      <td>congratulations on getting the correct answer!</td>\n",
    "    </tr>\n",
    "    <tr>\n",
    "      <td>2</td>\n",
    "      <td>Whit3z</td>\n",
    "      <td>pass</td>\n",
    "      <td>156319</td>\n",
    "      <td>5</td>\n",
    "      <td>congratulations on getting the correct answer!</td>\n",
    "    </tr>\n",
    "    <tr>\n",
    "      <td>3</td>\n",
    "      <td>81ueman</td>\n",
    "      <td>pass</td>\n",
    "      <td>196446</td>\n",
    "      <td>3</td>\n",
    "      <td>congratulations on getting the correct answer!</td>\n",
    "    </tr>\n",
    "  </tbody>\n",
    "</table>"
   ]
  },
  {
   "cell_type": "code",
   "execution_count": null,
   "metadata": {},
   "outputs": [],
   "source": []
  }
 ],
 "metadata": {
  "kernelspec": {
   "display_name": "Python 3",
   "language": "python",
   "name": "python3"
  },
  "language_info": {
   "codemirror_mode": {
    "name": "ipython",
    "version": 3
   },
   "file_extension": ".py",
   "mimetype": "text/x-python",
   "name": "python",
   "nbconvert_exporter": "python",
   "pygments_lexer": "ipython3",
   "version": "3.6.5"
  }
 },
 "nbformat": 4,
 "nbformat_minor": 2
}
