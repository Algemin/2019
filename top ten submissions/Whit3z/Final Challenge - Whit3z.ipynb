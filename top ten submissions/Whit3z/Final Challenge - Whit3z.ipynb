{
 "cells": [
  {
   "cell_type": "code",
   "execution_count": 2,
   "metadata": {},
   "outputs": [
    {
     "data": {
      "application/vnd.jupyter.widget-view+json": {
       "model_id": "f1a2f0c0c7db432b979e988cb125bd2a",
       "version_major": 2,
       "version_minor": 0
      },
      "text/plain": [
       "Accordion(children=(VBox(layout=Layout(max_width='610px', min_width='610px')),), layout=Layout(max_height='500…"
      ]
     },
     "metadata": {},
     "output_type": "display_data"
    },
    {
     "data": {
      "application/javascript": [
       "$('div.job_widget')\n",
       "        .detach()\n",
       "        .appendTo($('#header'))\n",
       "        .css({\n",
       "            'z-index': 999,\n",
       "             'position': 'fixed',\n",
       "            'box-shadow': '5px 5px 5px -3px black',\n",
       "            'opacity': 0.95,\n",
       "            'float': 'left,'\n",
       "        })\n",
       "        "
      ],
      "text/plain": [
       "<IPython.core.display.Javascript object>"
      ]
     },
     "metadata": {},
     "output_type": "display_data"
    }
   ],
   "source": [
    "import qiskit\n",
    "from qiskit import QuantumCircuit, QuantumRegister, ClassicalRegister, IBMQ\n",
    "from qiskit.tools.visualization import plot_histogram\n",
    "from qiskit.tools.monitor import job_monitor\n",
    "\n",
    "import qiskit.tools.jupyter # for popup job monitoring\n",
    "\n",
    "import json\n",
    "from pathlib import Path\n",
    "\n",
    "from datetime import datetime\n",
    "\n",
    "from qiskit.transpiler import PassManager\n",
    "from qiskit.transpiler.passes import Unroller\n",
    "\n",
    "import numpy as np\n",
    "\n",
    "%matplotlib inline\n",
    "%qiskit_job_watcher"
   ]
  },
  {
   "cell_type": "code",
   "execution_count": 3,
   "metadata": {},
   "outputs": [],
   "source": [
    "provider = IBMQ.load_account()\n",
    "backend = provider.get_backend('ibmq_qasm_simulator')"
   ]
  },
  {
   "cell_type": "markdown",
   "metadata": {},
   "source": [
    "# Solution to Final Challenge (Team Whit3z)\n",
    "\n",
    "For this challenge, the problem assigning konbini to each district is an instance of graph coloring problem with 4 colors. In order to build oracle function (or rather circuit), the main idea is to check whether each edge doesn't connect between two nodes of the same color (konbini chain). In order to reduce the edge check, we infer information about some of the nodes, like cycle checking or how some node cannot be certain konbini chains.\n",
    "\n",
    "## Idea of Oracle\n",
    "\n",
    "We'll describe two steps to build oracle by first explaining the base idea and second on how to reduce the check condition.\n",
    "\n",
    "### Basic Idea\n",
    "\n",
    "- have one ancilla bit starting as $\\left|0\\right\\rangle$ to represent each edge of the graph; we call this \"edge ancilla\"\n",
    "- we'll flip edge ancilla to $\\left|1\\right\\rangle$ if the two nodes connecting to the corresponding edge don't have the same konbini chain\n",
    "- also have one ancilla bit starting in state $\\left|1\\right\\rangle$ corresponds to each of the node connecting to already assigned nodes (for this instance; all nodes); we call this \"node ancilla\"\n",
    "- we'll flip node ancilla to $\\left|0\\right\\rangle$ if the node it represents has same konbini chain as the ones it connects to\n",
    "- if all the ancilla bits are in state $\\left|1\\right\\rangle$ then flip the phase of this particular input\n",
    "- clean / reset ancilla bits back to $\\left|0\\right\\rangle$ state so it can be use again next iteration\n",
    "\n",
    "\n",
    "\n",
    "\n",
    "\n",
    "\n"
   ]
  },
  {
   "cell_type": "markdown",
   "metadata": {},
   "source": [
    "#### Edge Ancilla\n",
    "\n",
    "The circuit to check and flip edge ancilla goes like this."
   ]
  },
  {
   "cell_type": "code",
   "execution_count": 9,
   "metadata": {},
   "outputs": [
    {
     "data": {
      "image/png": "[encoded data removed]",
      "text/plain": [
       "<Figure size 593.572x445.48 with 1 Axes>"
      ]
     },
     "execution_count": 9,
     "metadata": {},
     "output_type": "execute_result"
    }
   ],
   "source": [
    "n1 = QuantumRegister(2, 'node-1')\n",
    "n2 = QuantumRegister(2, 'node-2')\n",
    "anc = QuantumRegister(2, 'ancilla')\n",
    "er = QuantumRegister(1, 'edge-anc')\n",
    "edge_check_circuit = QuantumCircuit(n1, n2, anc, er)\n",
    "\n",
    "edge_check_circuit.x(anc)\n",
    "edge_check_circuit.cx(n1[0], anc[0])\n",
    "edge_check_circuit.cx(n2[0], anc[0])\n",
    "\n",
    "edge_check_circuit.cx(n1[1], anc[1])\n",
    "edge_check_circuit.cx(n2[1], anc[1])\n",
    "\n",
    "edge_check_circuit.ccx(anc[0], anc[1], er[0])\n",
    "\n",
    "edge_check_circuit.draw(output='mpl')"
   ]
  },
  {
   "cell_type": "markdown",
   "metadata": {},
   "source": [
    "As we can see here that this check requires 4 cx and 1 ccx with total cost = 111 (without cleaning the two ancillas used back to $\\left|00\\right\\rangle$)"
   ]
  },
  {
   "cell_type": "markdown",
   "metadata": {},
   "source": [
    "#### Node Ancilla\n",
    "\n",
    "As for node ancilla, we can achieve it by `x` and `ccx` gate. For example checking the node isn't in the state $\\left|01\\right\\rangle$"
   ]
  },
  {
   "cell_type": "code",
   "execution_count": 13,
   "metadata": {},
   "outputs": [
    {
     "data": {
      "image/png": "[encoded data removed]",
      "text/plain": [
       "<Figure size 352.772x204.68 with 1 Axes>"
      ]
     },
     "execution_count": 13,
     "metadata": {},
     "output_type": "execute_result"
    }
   ],
   "source": [
    "n1 = QuantumRegister(2, 'node-1')\n",
    "na = QuantumRegister(1, 'node-anc')\n",
    "node_anc_circuit = QuantumCircuit(n1, na)\n",
    "\n",
    "node_anc_circuit.x(na)\n",
    "node_anc_circuit.x(n1[0])\n",
    "node_anc_circuit.ccx(n1[0], n1[1], na)\n",
    "\n",
    "\n",
    "node_anc_circuit.draw(output='mpl')"
   ]
  },
  {
   "cell_type": "markdown",
   "metadata": {},
   "source": [
    "<hr>\n",
    "\n",
    "With the idea above, we'd need 13 edge ancillas and 7 node ancillas. But we can do it better by taking advantages of graph connectivity of the problem. Reducing the edge check means reducing the cost also. For example, node A, 0, 2, and 3 from a complete graph of size 4. By using this information we can conclude that valid assignment to the four nodes must xor to **00** or that the four must have **00, 01, 10, 11** exactly once.\n",
    "\n",
    "\n",
    "<img src=\"../../problems/final/tokyo_map_pic.png\" width=\"700\">\n",
    "\n",
    "### Reduce Check Contidions\n",
    "\n",
    "1. node 2, 3, 5, and 6 form complete graph of size 4. **We have 4 ancilla bits to check that from this four nodes, 00, 01, 10, and 11 are presented or not.**\n",
    "1. in the process of checking existence of 00, 01, 10, 11 from the four nodes, we also encode that 11(D) must be from 2 or 3 because 5, 6 are adjacent to D; 11(C) can't be from 2; 00(A) must be from 5 or 6; etc\n",
    "1. node A, 0, 2, and 3 also form complete graph of size 4 so xor(0, 2, 3) must be equal to 00. **We have 1 ancilla bit to check this**. \n",
    "1. Since we already force 2 and 3 to not be equal to each other nor 00(A) we can safely assume that if ancilla bit from (3) and the four earlier from (1) can be only be in state $\\left|1\\right\\rangle$ if the conditions are met.\n",
    "1. Focusing on node 1; since node 2 is adjacent to C(10) we conclude that one of node 0 or 3 must be C(10) (from the complete graph argument), node 1 must be 00 or 11 only. **We have 1 ancilla bit to check whether node 1 is 00/11.**\n",
    "\n",
    "From point 1, 3, and 5 we can reduce the edge check to only 4 edges namely 13, 14, 34, and 46.\n",
    "\n",
    "In total we need 4 edge ancilla, 1 node ancilla (node 4), and 6 ancilla from this step. But still we could reduce the cost more by optimizing components of circuits used."
   ]
  },
  {
   "cell_type": "markdown",
   "metadata": {},
   "source": [
    "#### Complete Graph of Size 4 checking\n",
    "\n",
    "We give the implementation of how we check node 2, 3, 5, 6 conditions below"
   ]
  },
  {
   "cell_type": "code",
   "execution_count": 16,
   "metadata": {},
   "outputs": [
    {
     "data": {
      "image/png": "[encoded data removed]",
      "text/plain": [
       "<Figure size 1201.59x746.48 with 1 Axes>"
      ]
     },
     "execution_count": 16,
     "metadata": {},
     "output_type": "execute_result"
    }
   ],
   "source": [
    "node2 = QuantumRegister(2, 'n2')\n",
    "node3 = QuantumRegister(2, 'n3')\n",
    "node5 = QuantumRegister(2, 'n5')\n",
    "node6 = QuantumRegister(2, 'n6')\n",
    "anc = QuantumRegister(4, 'anc')\n",
    "\n",
    "qc = QuantumCircuit(node2, node3, node5, node6, anc)\n",
    "\n",
    "dist = { 2: node2, 3: node3, 5: node5, 6:node6 }\n",
    "\n",
    "\n",
    "gs = [2,3,5,6]\n",
    "# D 11 / 11 11 11 11\n",
    "for i in [2,3]:\n",
    "    qc.ccx(dist[i][0], dist[i][1], anc[0])\n",
    "qc.barrier()\n",
    "# C 10 / 11 10 10 10\n",
    "for i in [3,5,6]:\n",
    "    qc.x(dist[i][1])\n",
    "for i in [3,5,6]:\n",
    "    qc.ccx(dist[i][0], dist[i][1], anc[1])\n",
    "qc.barrier()\n",
    "# A 00 / 11 10 00 00\n",
    "for i in [5,6]:\n",
    "    qc.x(dist[i][0])\n",
    "for i in [6,5]:\n",
    "    qc.ccx(dist[i][0], dist[i][1], anc[2])\n",
    "qc.barrier()\n",
    "# B 01 / 01 01 01 01\n",
    "for i in [3,5,6]:\n",
    "    qc.x(dist[i][1])\n",
    "for i in [2,3]:\n",
    "    qc.x(dist[i][0])\n",
    "for i in gs:\n",
    "    qc.ccx(dist[i][0], dist[i][1], anc[3])\n",
    "    \n",
    "qc.draw(output='mpl')"
   ]
  },
  {
   "cell_type": "markdown",
   "metadata": {},
   "source": [
    "## Optimizing Circuit Part\n",
    "\n",
    "`n_cnot` is the multi-controlled toffoli gate, implementing using the techniques from [arXiv:quant-ph/9503016](https://arxiv.org/abs/quant-ph/9503016)\n",
    "\n",
    "We have free 7 ancilla bits to use and we can have other regs act as dirty ancilla bits when performing linear simulation of multi-control-toffoli. \n",
    "\n",
    "`hxh` to combine HXH into one U3 gate\n",
    "\n",
    "`hx` and `xh` to combine HX and XH into one U3 gate to minimize cost on Grover's Diffusion part.\n",
    "\n",
    "`ccm` simplified toffoli gate (margolus) gate / relative phase toffoli (in qiskit `rccx`) which can be used in place of `ccx` when performing task that will later reverse the operation (perfect for use with ancillary bits since we'll need to reset them back later)"
   ]
  },
  {
   "cell_type": "code",
   "execution_count": 18,
   "metadata": {},
   "outputs": [],
   "source": [
    "def _n_cnot_inner(qc, ctrls, target, working_bits):\n",
    "    n = len(ctrls)\n",
    "    if len(working_bits) < n - 2:\n",
    "        raise ValueError('working qubit is not enough, given {} bit need at least {} bit'.format(\n",
    "            len(working_bits), n - 2))\n",
    "    qs = [ctrls[i] for i in range(n)]\n",
    "    qs = qs + [working_bits[i] for i in range(n - 2)]\n",
    "    qs = qs + [target]\n",
    "    qc.ccx(qs[n-1], qs[-2], qs[-1])\n",
    "    for i in range(1, n - 2):\n",
    "        qc.ccm(qs[n - 1 - i], qs[-2 - i], qs[-1 - i], end=False)\n",
    "    qc.ccm(qs[0], qs[1], qs[n])\n",
    "    for i in reversed(range(1, n - 2)):\n",
    "        qc.ccm(qs[n - 1 - i], qs[-2 - i], qs[-1 - i], begin=False)\n",
    "    qc.ccx(qs[n-1], qs[-2], qs[-1])\n",
    "    for i in range(1, n - 2):\n",
    "        qc.ccm(qs[n - 1 - i], qs[-2 - i], qs[-1 - i], end=False)\n",
    "    qc.ccm(qs[0], qs[1], qs[n])\n",
    "    for i in reversed(range(1, n - 2)):\n",
    "        qc.ccm(qs[n - 1 - i], qs[-2 - i], qs[-1 - i], begin=False)\n",
    "\n",
    "\n",
    "def n_cnot(self, ctrls, target, anc, dirty_ancilla=None, flags=None):\n",
    "    \n",
    "    if flags is not None:\n",
    "        if len(flags) != len(ctrls):\n",
    "            raise ValueError('flags len must be equal to ctrls len')\n",
    "\n",
    "        for i in range(len(flags)):\n",
    "            if flags[i] == -1:\n",
    "                self.x(ctrls[i])\n",
    "    \n",
    "    if len(ctrls) == 1:\n",
    "        self.cx(ctrls[0], target)\n",
    "    elif len(ctrls) == 2:\n",
    "        self.ccx(ctrls[0], ctrls[1], target)\n",
    "    elif dirty_ancilla is not None:\n",
    "        if len(dirty_ancilla) < len(ctrls) - 2:\n",
    "            raise ValueError('dirty anc qubit is not enough, needed {} bit'.format(len(ctrls)-2))\n",
    "        if len(ctrls) == 3 and anc is not None and len(anc) >= 1:\n",
    "            self.ccm(ctrls[0], ctrls[1], anc[0])\n",
    "            self.ccx(ctrls[2], anc[1], target)\n",
    "            self.ccm(ctrls[0], ctrls[1], anc[0])\n",
    "        elif len(ctrls) == 4 and len(anc) >= 2:\n",
    "            self.ccm(ctrls[0], ctrls[1], anc[0])\n",
    "            self.ccm(ctrls[2], ctrls[3], anc[1])\n",
    "            self.ccx(anc[0], anc[1], target)\n",
    "            self.ccm(ctrls[0], ctrls[1], anc[0])\n",
    "            self.ccm(ctrls[2], ctrls[3], anc[1])\n",
    "        else:\n",
    "            print('ctrl len = {}'.format(len(ctrls)))\n",
    "            if anc is not None:\n",
    "                print('chotto matte, motto ii houhou ga aru yo!')\n",
    "                print('anc len = {}'.format(len(anc)))\n",
    "            else:\n",
    "                print('no ancilla is given')\n",
    "            _n_cnot_inner(self, ctrls, target, dirty_ancilla)\n",
    "    else:\n",
    "        if len(anc) < 1:\n",
    "            raise ValueError(\n",
    "                'ancillary qubit needs to be at least 1 bit, given {} bit'.format(len(anc)))\n",
    "    \n",
    "        n = len(ctrls) + 2\n",
    "        m = int((n + 1) // 2)\n",
    "        _anc = anc[0]\n",
    "        _n_cnot_inner(self, ctrls[:m], _anc, ctrls[m:] + [target])\n",
    "        _n_cnot_inner(self, ctrls[m:] + [_anc], target, ctrls[:m])\n",
    "        _n_cnot_inner(self, ctrls[:m], _anc, ctrls[m:] + [target])\n",
    "        _n_cnot_inner(self, ctrls[m:] + [_anc], target, ctrls[:m])\n",
    "\n",
    "    if flags is not None:\n",
    "        for i in range(len(flags)):\n",
    "            if flags[i] == -1:\n",
    "                self.x(ctrls[i])\n",
    "\n",
    "\n",
    "def ccm(self, a, b, c, begin=True, end=True):\n",
    "    if begin:\n",
    "        self.ry(np.pi/4, c)\n",
    "    self.cx(b, c)\n",
    "    self.ry(np.pi/4, c)\n",
    "    self.cx(a, c)\n",
    "    self.ry(-np.pi/4, c)\n",
    "    self.cx(b, c)\n",
    "    if end:\n",
    "        self.ry(-np.pi/4, c)\n",
    "    self.barrier()\n",
    "    \n",
    "def hxh(self, a):\n",
    "    self.u3(0.0, np.pi/2, np.pi/2, a)\n",
    "    \n",
    "def hx(self, a):\n",
    "    self.u3(np.pi/2, 0.0, 0.0, a)\n",
    "    \n",
    "def xh(self, a):\n",
    "    self.u3(np.pi/2, np.pi, -np.pi, a)\n",
    "    \n",
    "QuantumCircuit.n_cnot = n_cnot\n",
    "\n",
    "QuantumCircuit.hxh = hxh\n",
    "QuantumCircuit.xh = xh\n",
    "QuantumCircuit.hx = hx\n",
    "QuantumCircuit.ccm = ccm"
   ]
  },
  {
   "cell_type": "markdown",
   "metadata": {},
   "source": [
    "So whenever possible, we can replace `ccx` with relative phase toffoli gate (implemented below) \n",
    "\n",
    "the cost goes down from 69 to 34."
   ]
  },
  {
   "cell_type": "code",
   "execution_count": 19,
   "metadata": {},
   "outputs": [
    {
     "data": {
      "image/png": "[encoded data removed]",
      "text/plain": [
       "<Figure size 648.956x204.68 with 1 Axes>"
      ]
     },
     "execution_count": 19,
     "metadata": {},
     "output_type": "execute_result"
    }
   ],
   "source": [
    "qr = QuantumRegister(3, 'qr')\n",
    "qc = QuantumCircuit(qr)\n",
    "\n",
    "qc.ccm(qr[0], qr[1], qr[2])\n",
    "qc.draw(output='mpl')"
   ]
  },
  {
   "cell_type": "markdown",
   "metadata": {},
   "source": [
    "## Putting  every pieces together\n",
    "\n",
    "There are still more places to be optimised like \n",
    "\n",
    "- reusing ancilla bits (for edge checking)\n",
    "- removing duplicate/unnecessary gates (when operate in pairs)\n",
    "- where to change toffoli into relative phase toffoli\n",
    "\n",
    "which can be seen in details in the block below for the real implementation of our solution.\n",
    "\n",
    "<hr>"
   ]
  },
  {
   "cell_type": "code",
   "execution_count": 5,
   "metadata": {},
   "outputs": [],
   "source": [
    "def Uf_graph(cities, edges, anc):\n",
    "    qc = QuantumCircuit(cities, edges, anc)\n",
    "    \n",
    "    n = len(cities) // 2\n",
    "    dist = [[cities[2 * i], cities[2 * i + 1]] for i in range(n)]\n",
    "    e = {\n",
    "        '13': edges[0],\n",
    "        '14': edges[1],\n",
    "        '34': edges[2],\n",
    "        '46': edges[3]\n",
    "    }\n",
    "    \n",
    "    def _eq(u, v, edge_str, oldU=False, oldV=False, keepU=False, keepV=False):\n",
    "        nonlocal qc, cities, dist, e, edges, anc\n",
    "        if not oldU:\n",
    "            qc.cx(dist[u][0], anc[0])\n",
    "            qc.cx(dist[u][1], anc[1])\n",
    "        if not oldV:\n",
    "            qc.cx(dist[v][0], anc[0])\n",
    "            qc.cx(dist[v][1], anc[1])\n",
    "        \n",
    "        qc.ccm(anc[0], anc[1], e[edge_str])\n",
    "        \n",
    "        if not keepU:\n",
    "            qc.cx(dist[u][0], anc[0])\n",
    "            qc.cx(dist[u][1], anc[1])\n",
    "        if not keepV:\n",
    "            qc.cx(dist[v][0], anc[0])\n",
    "            qc.cx(dist[v][1], anc[1]) \n",
    "        \n",
    "    ## check edges\n",
    "    qc.x([anc[0], anc[1]]) # flip anc[0],anc[1]\n",
    "    # node 0, X\n",
    "    _eq(3, 1, '13', keepV=True)\n",
    "    _eq(4, 1, '14', oldV=True, keepU=True)\n",
    "    _eq(4, 6, '46', oldU=True, keepU=True)\n",
    "    _eq(4, 3, '34', oldU=True, keepV=True)\n",
    "       \n",
    "    # xor(0, 2, 3) must give 00 (3 is kept)\n",
    "    ## bit-0\n",
    "    qc.cx(dist[0][0], anc[0])\n",
    "    qc.cx(dist[2][0], anc[0])\n",
    "    ## bit-1\n",
    "    qc.cx(dist[0][1], anc[1])\n",
    "    qc.cx(dist[2][1], anc[1])\n",
    "    ###\n",
    "    qc.ccm(anc[0], anc[1], anc[4])\n",
    "    ### reverse\n",
    "    ## bit-0\n",
    "    qc.cx(dist[0][0], anc[0])\n",
    "    qc.cx(dist[2][0], anc[0])\n",
    "    qc.cx(dist[3][0], anc[0])\n",
    "    ## bit-1\n",
    "    qc.cx(dist[0][1], anc[1])\n",
    "    qc.cx(dist[2][1], anc[1])\n",
    "    qc.cx(dist[3][1], anc[1])\n",
    "    qc.x([anc[0], anc[1]]) # flip anc[0],anc[1]\n",
    "    \n",
    "    ## k4 on 2 3 5 6\n",
    "    gs = [2,3,5,6]\n",
    "    # D 11 / 11 11 11 11\n",
    "    for i in [2,3]:\n",
    "        qc.ccm(dist[i][0], dist[i][1], anc[0])\n",
    "    # C 10 / 11 10 10 10\n",
    "    for i in [3,5,6]:\n",
    "        qc.x(dist[i][1])\n",
    "    for i in [3,5,6]:\n",
    "        qc.ccm(dist[i][0], dist[i][1], anc[1])\n",
    "    # A 00 / 11 10 00 00\n",
    "    for i in [5,6]:\n",
    "        qc.x(dist[i][0])\n",
    "    for i in [6,5]:\n",
    "        qc.ccm(dist[i][0], dist[i][1], anc[2])\n",
    "    # B 01 / 01 01 01 01\n",
    "    for i in [3,5,6]:\n",
    "        qc.x(dist[i][1])\n",
    "    for i in [2,3]:\n",
    "        qc.x(dist[i][0])\n",
    "    for i in gs:\n",
    "        qc.ccm(dist[i][0], dist[i][1], anc[3])\n",
    "    \n",
    "    \n",
    "    ## condition for adj to assigned nodes\n",
    "    # 4 B\n",
    "    qc.x(anc[5])\n",
    "    qc.x(dist[4][0])\n",
    "    qc.ccm(dist[4][0], dist[4][1], anc[5])\n",
    "    # 1 must be 00/11 only\n",
    "    qc.x(anc[6])\n",
    "    qc.cx(dist[1][0], anc[6])\n",
    "    qc.cx(dist[1][1], anc[6])\n",
    "    \n",
    "    ## flip output if all edges[i] is 1\n",
    "    # base anc\n",
    "    qc.ccm(edges[0], edges[1], anc[7])\n",
    "    qc.ccm(edges[2], edges[3], anc[8])\n",
    "    qc.ccm(anc[0], anc[1], anc[9])\n",
    "    qc.ccm(anc[2], anc[3], anc[10])\n",
    "    qc.ccm(anc[4], anc[5], anc[11])\n",
    "    # intermediate anc\n",
    "    qc.ccm(anc[7], anc[8], anc[12])\n",
    "    qc.ccm(anc[9], anc[10], anc[13])\n",
    "    \n",
    "    # flip if [anc[6], anc[11:14]] are 1\n",
    "    qc.h(anc[6])\n",
    "    qc.n_cnot(anc[11:14], anc[6], None, dirty_ancilla=cities)\n",
    "    qc.h(anc[6])\n",
    "    \n",
    "    # intermediate anc\n",
    "    qc.ccm(anc[9], anc[10], anc[13])\n",
    "    qc.ccm(anc[7], anc[8], anc[12])\n",
    "    # base anc\n",
    "    qc.ccm(anc[4], anc[5], anc[11])\n",
    "    qc.ccm(anc[2], anc[3], anc[10])\n",
    "    qc.ccm(anc[0], anc[1], anc[9])\n",
    "    qc.ccm(edges[2], edges[3], anc[8])\n",
    "    qc.ccm(edges[0], edges[1], anc[7])\n",
    "    \n",
    "    ## condition for adj to assigned nodes (reverse order)\n",
    "    # 1 must be 00/11 only\n",
    "    qc.x(anc[6])\n",
    "    qc.cx(dist[1][0], anc[6])\n",
    "    qc.cx(dist[1][1], anc[6])\n",
    "    # 4 B\n",
    "    qc.ccm(dist[4][0], dist[4][1], anc[5])\n",
    "    qc.x(dist[4][0])\n",
    "    qc.x(anc[5])\n",
    "    \n",
    "    ## k4 on 2 3 5 6 (reverse order)\n",
    "    gs = [2,3,5,6]\n",
    "    # B 01 / 01 01 01 01\n",
    "    for i in reversed(gs):\n",
    "        qc.ccm(dist[i][0], dist[i][1], anc[3])\n",
    "    for i in [3,5,6]:\n",
    "        qc.x(dist[i][1])\n",
    "    for i in [2,3]:\n",
    "        qc.x(dist[i][0])\n",
    "    # A 00 / 11 10 00 00\n",
    "    for i in reversed([6,5]):\n",
    "        qc.ccm(dist[i][0], dist[i][1], anc[2])\n",
    "    for i in [5,6]:\n",
    "        qc.x(dist[i][0])\n",
    "    # C 10 / 11 10 10 10\n",
    "    for i in reversed([3,5,6]):\n",
    "        qc.ccm(dist[i][0], dist[i][1], anc[1])\n",
    "    for i in [3,5,6]:\n",
    "        qc.x(dist[i][1])\n",
    "    # D 11 / 11 11 11 11\n",
    "    for i in reversed([2,3]):\n",
    "        qc.ccm(dist[i][0], dist[i][1], anc[0])\n",
    "    \n",
    "    ## check edges\n",
    "    qc.x([anc[0], anc[1]]) # flip anc[0],anc[1]\n",
    "    # node 0, X\n",
    "    _eq(3, 1, '13', keepV=True)\n",
    "    _eq(4, 1, '14', oldV=True, keepU=True)\n",
    "    _eq(4, 6, '46', oldU=True, keepU=True)\n",
    "    _eq(4, 3, '34', oldU=True, keepV=True)\n",
    "       \n",
    "    # xor(0, 2, 3) must give 00 (3 is kept)\n",
    "    ## bit-0\n",
    "    qc.cx(dist[0][0], anc[0])\n",
    "    qc.cx(dist[2][0], anc[0])\n",
    "    ## bit-1\n",
    "    qc.cx(dist[0][1], anc[1])\n",
    "    qc.cx(dist[2][1], anc[1])\n",
    "    ###\n",
    "    qc.ccm(anc[0], anc[1], anc[4])\n",
    "    ### reverse\n",
    "    ## bit-0\n",
    "    qc.cx(dist[0][0], anc[0])\n",
    "    qc.cx(dist[2][0], anc[0])\n",
    "    qc.cx(dist[3][0], anc[0])\n",
    "    ## bit-1\n",
    "    qc.cx(dist[0][1], anc[1])\n",
    "    qc.cx(dist[2][1], anc[1])\n",
    "    qc.cx(dist[3][1], anc[1])\n",
    "    qc.x([anc[0], anc[1]]) # flip anc[0],anc[1]\n",
    "    \n",
    "    \n",
    "    return qc"
   ]
  },
  {
   "cell_type": "code",
   "execution_count": 6,
   "metadata": {},
   "outputs": [],
   "source": [
    "def grover_init(cities, edges, anc):\n",
    "    qc = QuantumCircuit(cities, edges, anc)\n",
    "    qc.h(cities)\n",
    "    qc.x(edges)\n",
    "    qc.barrier()\n",
    "    return qc"
   ]
  },
  {
   "cell_type": "code",
   "execution_count": 7,
   "metadata": {},
   "outputs": [],
   "source": [
    "def grover_diffusion(ipt, _anc, edges, dirty_ancilla):\n",
    "    \n",
    "    if dirty_ancilla is not None:\n",
    "        qc = QuantumCircuit(ipt, _anc, edges, dirty_ancilla)\n",
    "    else:\n",
    "        qc = QuantumCircuit(ipt, _anc, edges)\n",
    "    \n",
    "    anc = _anc[:] + edges[:]\n",
    "    \n",
    "    n = len(ipt)\n",
    "    anc_n = len(_anc)\n",
    "    \n",
    "    qc.hx(ipt[:-1])\n",
    "    qc.hxh(ipt[-1])\n",
    "    \n",
    "    if anc_n < n-3:\n",
    "        qc.x(anc[anc_n:n-3])\n",
    "    qc.ccm(ipt[0], ipt[1], anc[0])\n",
    "    for i in range(2, n-2):\n",
    "        qc.ccm(ipt[i], anc[i-2], anc[i-1])\n",
    "    qc.ccx(ipt[-2], anc[n-4], ipt[-1])\n",
    "    for i in reversed(range(2, n-2)):\n",
    "        qc.ccm(ipt[i], anc[i-2], anc[i-1])\n",
    "    qc.ccm(ipt[0], ipt[1], anc[0])\n",
    "    if anc_n < n-3:\n",
    "        qc.x(anc[anc_n:n-3])\n",
    "\n",
    "    qc.hxh(ipt[-1])\n",
    "    qc.xh(ipt[:-1])\n",
    "\n",
    "    return qc"
   ]
  },
  {
   "cell_type": "code",
   "execution_count": 8,
   "metadata": {},
   "outputs": [],
   "source": [
    "def measurement(ipt, c_output):\n",
    "    qc = QuantumCircuit(ipt, c_output)\n",
    "    qc.measure(ipt, c_output)\n",
    "    return qc   "
   ]
  },
  {
   "cell_type": "markdown",
   "metadata": {},
   "source": [
    "## Now onto the whole algorithm circuit part"
   ]
  },
  {
   "cell_type": "code",
   "execution_count": 9,
   "metadata": {},
   "outputs": [
    {
     "name": "stdout",
     "output_type": "stream",
     "text": [
      "ctrl len = 3\n",
      "no ancilla is given\n"
     ]
    }
   ],
   "source": [
    "cities = QuantumRegister(14, 'cities')\n",
    "edges = QuantumRegister(4, 'edges')\n",
    "anc = QuantumRegister(14, 'anc')\n",
    "c_out = ClassicalRegister(14, 'c_out')\n",
    "job_id = ''\n",
    "\n",
    "_qc_init = grover_init(cities, edges, anc)\n",
    "_Uf_graph = Uf_graph(cities, edges, anc)\n",
    "_diffusion = grover_diffusion(cities, anc, edges, None)\n",
    "_empty_qc = QuantumCircuit(cities, edges, anc)\n",
    "_measurement = measurement(cities, c_out)\n",
    "\n",
    "qc = _qc_init + _empty_qc\n",
    "for i in range(5):\n",
    "    qc = qc + _Uf_graph + _diffusion\n",
    "    \n",
    "qc.barrier()\n",
    "qc = qc + _measurement"
   ]
  },
  {
   "cell_type": "markdown",
   "metadata": {},
   "source": [
    "## Submit Job to Cloud Simulator"
   ]
  },
  {
   "cell_type": "code",
   "execution_count": 11,
   "metadata": {
    "scrolled": false
   },
   "outputs": [
    {
     "name": "stdout",
     "output_type": "stream",
     "text": [
      "5da40e7fecbd6d0018d9a8e1\n",
      "job is initiated at 14/10/2019 12:58:28\n"
     ]
    }
   ],
   "source": [
    "backend = provider.get_backend('ibmq_qasm_simulator')\n",
    "job = qiskit.execute(qc, backend=backend, shots=8000, seed_simulator=12345, backend_options={\"fusion_enable\":True})\n",
    "\n",
    "print(job.job_id())\n",
    "job_id = job.job_id()\n",
    "\n",
    "now = datetime.now()\n",
    "dt_string = now.strftime(\"%d/%m/%Y %H:%M:%S\")\n",
    "print('job is initiated at {}'.format(dt_string))\n",
    "\n",
    "filename='./submitted_jobs.txt'\n",
    "with open(filename, 'a+') as f:\n",
    "    f.write('{} - {}\\n'.format(dt_string, job_id))"
   ]
  },
  {
   "cell_type": "code",
   "execution_count": 13,
   "metadata": {},
   "outputs": [],
   "source": [
    "# job = backend.retrieve_job('5da12f8a2580ab0018a4713a')\n",
    "result = job.result()\n",
    "count = result.get_counts()\n",
    "# print(count)\n",
    "#`shots` are set to 8000 to increase sampling\n",
    "#`seed_simulator`` is set to 12345 to 'lock' its value, and \n",
    "#`backend_options={\"fusion_enable\":True}` is specified to improve simulator performance."
   ]
  },
  {
   "cell_type": "markdown",
   "metadata": {},
   "source": [
    "## Submission part"
   ]
  },
  {
   "cell_type": "code",
   "execution_count": 14,
   "metadata": {},
   "outputs": [],
   "source": [
    "# Input your quantum circuit\n",
    "circuit = qc\n",
    "\n",
    "# Input your result of the execute(groverCircuit, backend=backend, shots=shots).result()\n",
    "\n",
    "results = result\n",
    "# results = backend.retrieve_job(job_id).result()\n",
    "\n",
    "count = results.get_counts()\n",
    "\n",
    "# Provide your team name\n",
    "name='Whit3z'\n",
    "\n",
    "# Please indicate the number of times you have made a submission so far. \n",
    "# For example, if it's your 1st time to submit your answer, write 1. If it's your 5th time to submit your answer, write 5.\n",
    "times='15'"
   ]
  },
  {
   "cell_type": "code",
   "execution_count": 15,
   "metadata": {},
   "outputs": [],
   "source": [
    "# Unroll the circuit\n",
    "pass_ = Unroller(['u3', 'cx'])\n",
    "pm = PassManager(pass_)\n",
    "new_circuit = pm.run(circuit) \n",
    "\n",
    "# obtain gates\n",
    "gates=new_circuit.count_ops()\n",
    "\n",
    "#sort count\n",
    "count_sorted = sorted(count.items(), key=lambda x:x[1], reverse=True)\n",
    "\n",
    "# collect answers with Top 9 probability\n",
    "ans_list = count_sorted[0:20]\n",
    "\n",
    "# reverse ans_list\n",
    "ans_reversed = []\n",
    "for i in ans_list:\n",
    "    ans_temp=[i[0][::-1],i[1]]\n",
    "    ans_reversed.append(ans_temp)\n",
    "\n",
    "# convert each 2 bits into corresponding color. Add node0(0),node3(1),node8(2) and node11(3)\n",
    "ans_shaped = []\n",
    "for j in ans_reversed:\n",
    "    ans_temp=j[0]\n",
    "    nodeA = 0\n",
    "    node0 = int(ans_temp[0] + ans_temp[1], 2)\n",
    "    node1 = int(ans_temp[2] + ans_temp[3], 2)\n",
    "    nodeB = 1\n",
    "    node2 = int(ans_temp[4] + ans_temp[5], 2)\n",
    "    node3 = int(ans_temp[6] + ans_temp[7], 2)\n",
    "    node4 = int(ans_temp[8] + ans_temp[9], 2)\n",
    "    nodeC = 2\n",
    "    node5 = int(ans_temp[10] + ans_temp[11], 2)\n",
    "    node6 = int(ans_temp[12] + ans_temp[13], 2)\n",
    "    nodeD = 3\n",
    "    nodes_color = str(nodeA) + str(node0) + str(node1) + str(nodeB) + str(node2) + str(node3) + str(node4) + str(nodeC) + str(node5) + str(node6) + str(nodeD) \n",
    "    ans_shaped.append([nodes_color,j[1]])\n",
    "\n",
    "# write the result into '[your name]_final_output.txt'\n",
    "filename='./output/'+name+'_'+times+'_final_output.txt'\n",
    "dct={'ans':ans_shaped,'costs':gates}\n",
    "with open(filename, 'w') as f:\n",
    "    json.dump(dct, f)"
   ]
  },
  {
   "cell_type": "markdown",
   "metadata": {},
   "source": [
    "## Verification Program"
   ]
  },
  {
   "cell_type": "code",
   "execution_count": 21,
   "metadata": {},
   "outputs": [],
   "source": [
    "def solution_checker(ans):\n",
    "    for a in ans:\n",
    "        s = a[0]\n",
    "        s = s[1:3] + s[4:7] + s[8:10]\n",
    "        correct = True\n",
    "        \n",
    "        # check node 0 1 2 3 4 5 6\n",
    "        correct = correct and (s[0] != '0')\n",
    "        correct = correct and (s[1] != '1')\n",
    "        correct = correct and (s[2] != '0')\n",
    "        correct = correct and (s[2] != '2')\n",
    "        correct = correct and (s[3] != '0')\n",
    "        correct = correct and (s[4] != '1')\n",
    "        correct = correct and (s[5] != '3')\n",
    "        correct = correct and (s[6] != '3')\n",
    "\n",
    "        # check edges\n",
    "        correct = correct and (s[0] != s[1])\n",
    "        correct = correct and (s[0] != s[2])\n",
    "        correct = correct and (s[0] != s[3])\n",
    "        correct = correct and (s[1] != s[3])\n",
    "        correct = correct and (s[1] != s[4])\n",
    "        correct = correct and (s[2] != s[3])\n",
    "        correct = correct and (s[2] != s[5])\n",
    "        correct = correct and (s[2] != s[6])\n",
    "        correct = correct and (s[3] != s[4])\n",
    "        correct = correct and (s[3] != s[5])\n",
    "        correct = correct and (s[3] != s[6])\n",
    "        correct = correct and (s[4] != s[6])\n",
    "        correct = correct and (s[5] != s[6])\n",
    "        \n",
    "        if not correct:\n",
    "            print('wrong answer on: {} with count {}'.format(a[0], a[1]))\n",
    "        else:\n",
    "            print('Yay! {} is one of the solutions with count {}'.format(a[0], a[1]))"
   ]
  },
  {
   "cell_type": "code",
   "execution_count": 22,
   "metadata": {
    "scrolled": false
   },
   "outputs": [
    {
     "name": "stdout",
     "output_type": "stream",
     "text": [
      "Your name:  Whit3z\n",
      "The number of times you have submitted your answer:  15\n",
      "<_io.TextIOWrapper name='output/Whit3z_15_final_output.txt' mode='r' encoding='UTF-8'>\n",
      "Yay! 01013232103 is one of the solutions with count 66\n",
      "Yay! 02013132023 is one of the solutions with count 62\n",
      "Yay! 02011322203 is one of the solutions with count 61\n",
      "Yay! 01013232013 is one of the solutions with count 53\n",
      "Yay! 02013132203 is one of the solutions with count 52\n",
      "Yay! 02313102023 is one of the solutions with count 51\n",
      "Yay! 02313122203 is one of the solutions with count 49\n",
      "Yay! 02013122203 is one of the solutions with count 48\n",
      "Yay! 01313202013 is one of the solutions with count 48\n",
      "Does your submission file have 9 answers?\n",
      "- Yes\n",
      "- Your plan:  [['01013232103', 66], ['02013132023', 62], ['02011322203', 61], ['01013232013', 53], ['02013132203', 52], ['02313102023', 51], ['02313122203', 49], ['02013122203', 48], ['01313202013', 48]]\n",
      "What is your cost?\n",
      "16613\n"
     ]
    }
   ],
   "source": [
    "# Input the path of your submission file\n",
    "your_path='./output/Whit3z_{}_final_output.txt'.format(times)\n",
    "\n",
    "p= Path(your_path)\n",
    "\n",
    "# Verify your information\n",
    "f_name=p.name\n",
    "your_info=f_name.split('_')\n",
    "print('Your name: ', your_info[0])\n",
    "print('The number of times you have submitted your answer: ', your_info[1])\n",
    "\n",
    "with open(p, 'r') as f:\n",
    "    print(f)\n",
    "    your_ans=json.load(f)\n",
    "\n",
    "solution_checker(your_ans['ans'])\n",
    "    \n",
    "print('Does your submission file have 9 answers?')\n",
    "if (len(your_ans['ans'])!=9):\n",
    "    print('- No, make sure you have 9 answers with top 9 probabilities')\n",
    "else:\n",
    "    \n",
    "    print('- Yes')\n",
    "    print('- Your plan: ', your_ans['ans'])\n",
    "\n",
    "print('What is your cost?')\n",
    "your_cost=your_ans['costs']['u3'] + 10*your_ans['costs']['cx']\n",
    "print(your_cost)"
   ]
  },
  {
   "cell_type": "code",
   "execution_count": null,
   "metadata": {},
   "outputs": [],
   "source": []
  }
 ],
 "metadata": {
  "kernelspec": {
   "display_name": "Python 3",
   "language": "python",
   "name": "python3"
  },
  "language_info": {
   "codemirror_mode": {
    "name": "ipython",
    "version": 3
   },
   "file_extension": ".py",
   "mimetype": "text/x-python",
   "name": "python",
   "nbconvert_exporter": "python",
   "pygments_lexer": "ipython3",
   "version": "3.6.8"
  }
 },
 "nbformat": 4,
 "nbformat_minor": 2
}
