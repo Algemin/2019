{
 "cells": [
  {
   "cell_type": "markdown",
   "metadata": {},
   "source": [
    "<img src=\"logo2.png\"></img>"
   ]
  },
  {
   "cell_type": "markdown",
   "metadata": {},
   "source": [
    "# Week 4: Final Challenge\n",
    "**Welcome to the final challenge!**<br/>\n",
    "Congratulations for coming thus far. In the final challenge, you will get to utilize what you learned in the past three weeks. <br/>\n",
    "\n",
    "As this final challenge will serve as the basis for the actual competition, please note that the organizers will not be able to assist you in getting the right answers. Please limit questions only pertaining to clarification of rules or guidelines. <br/>\n",
    "Thank you and good luck with the challenge! \n",
    "\n",
    "***************************\n",
    "# The Final Challenge Problem\n",
    "\n",
    "Zed City is a newly established (fictitious) municipality in Tokyo and is made up of 11 districts. <br/> \n",
    "Four convenience store ( _konbini_ ) chains A, B, C and D have each established their first store in this new city in non-overlapping districts.\n",
    "The map (or graph) below shows the 11 districts of Zed City and which district has a konbini already.\n",
    "\n",
    "Since this map looks different from a conventional one, let us explain how you should look at it once more just in case.<br/>\n",
    "If you count the number of nodes in this map (or graph), you'll notice that there are 11 of them. So, you should be able to tell that each node in this map (or graph) represents one of the 11 districts of Zed city. The colored nodes are the districts that have konbinis already with each color representing a different konbini chain. In this graph, konbini chain A is represented in Red, B in Blue, C in Yellow and D in Green. Next, you should take notice of the edges that connect these nodes. Any node (district) connected to each other by and edge means that they are districts adjacent to each other.\n",
    "<img src=\"./tokyo_map_pic.png\" width=\"700\">\n",
    "As the mayor of Zed City, you want to establish konbinis in the rest of the districts that still don't have one yet.<br/>\n",
    "Upon your request, all four konbini chains discussed with each other and agreed to establish their konbinis in Zed City under the following two conditions:\n",
    "\n",
    "**-Only one konbini is allowed in one district.**<br/>\n",
    "**-No two adjacent districts can have konbinis from the same chain.**<br/>\n",
    "\n",
    "Can you come up with a plan that satisfies the above conditions? You must provide all store plan combinations that meet the conditions above.<br/>\n",
    "\n",
    "**For solving this problem:**<br/>\n",
    "- Use the 32-qubit QASM simulator as your backend. (i.e. backend = provider.get_backend('ibmq_qasm_simulator'))\n",
    "- Use **Grover's algorithm** you learned in Week2 & 3 with **iteration ＝ 5.**\n",
    "- Each konbini chain A, B, C and D should be described (mapped) as **A: $00$、B:$01$、C:$10$、D:$11$**.\n",
    "- A konbini you are establishing in **district _n_**, should be mapped into classical registers **c[2n]** and **c[2n+1]**.\n",
    "(For example, let's say you want to establish konbini chain B:$01$ into district n=1. In this case, you should map $0$ and $1$ into classical registers c[2] and c[3].)\n",
    "- Make sure you **create an oracle** that **doesn't require any knowledge of what the answers are**. (For example, you are not allowed to create an oracle by using a classical optimization solver to get your answers for it.)  \n",
    "- You are only allowed to use the Unroller as your transpiler pass.\n",
    "<br/><br/>\n",
    "***************************"
   ]
  },
  {
   "cell_type": "markdown",
   "metadata": {},
   "source": [
    "#  IMPORTANT\n",
    "- Depending on your circuit size, **execution time can get quite long**. Sometimes even up to 60 minutes. So please be patient. \n",
    "- Please **do not throw jobs in succession** even if you are worried whether your job is running properly or not. This can create a long queue and clog the backend. You can check if your job is properly running from:<br/>\n",
    "https://quantum-computing.ibm.com/results  \n",
    "- **For the final challenge submission**, please make sure to **use the following code for running your circuit** on the 32-qubit QASM simulator. "
   ]
  },
  {
   "cell_type": "code",
   "execution_count": null,
   "metadata": {},
   "outputs": [],
   "source": [
    "provider = IBMQ.load_account()\n",
    "backend = provider.get_backend('ibmq_qasm_simulator')\n",
    "job = execute(qc, backend=backend, shots=8000, seed_simulator=12345, backend_options={\"fusion_enable\":True})\n",
    "result = job.result()\n",
    "count = result.get_counts()\n",
    "print(count)\n",
    "#`shots` are set to 8000 to increase sampling\n",
    "#`seed_simulator`` is set to 12345 to 'lock' its value, and \n",
    "#`backend_options={\"fusion_enable\":True}` is specified to improve simulator performance."
   ]
  },
  {
   "cell_type": "markdown",
   "metadata": {},
   "source": [
    "#  SUBMISSION GUIDELINES\n",
    "### Expected output:\n",
    "While making sure you adhere to all the rules, please obtain the following results:<br/>\n",
    "(1)Figure out the possible store plans by extracting the top nine bit-strings that give you the highest probabilities.<br/>\n",
    "(2)Find out the elementary gate (u3 and CX) counts by applying the Unroller to the circuit you built.\n",
    "\n",
    "### For Submission:\n",
    "#### Use the following program to create your submission file\n",
    "Using the **Submission File Creation Program** below, input your circuit, its result, your team name and the number of times you have made your submissions each into `circuit`, `results`, `name` and `times`. This will create a single submission file that will provide the above (1) and (2) in one file. \n",
    "Please note that the generated submission file will show konbini chains A, B, C and D described as 0, 1, 2, 3.\n",
    "\n",
    "#### You need to submit:\n",
    "#### File 1. The ouput file created by the file creation program (.txt file)\n",
    "#### File 2. The program of the circuit you built (.py file)\n",
    "\n",
    "#### Submissions that do not comply with the above format will be rejected. \n",
    "If you want to check if your submission file is compliant with the specified format, you can always verify this by using the **Verification Program** provided in the last section of this page.\n",
    "\n",
    "#### Example Output for  File 1\n",
    "The Submission File Creation Program will give you an output text file that will look something like: <br/>\n",
    "(Note: These are not the actual answers! Just a sample to show you how your output should look like.) \n",
    "\n",
    "```\n",
    "{\"ans\": [[\"01230123012\", 30], [\"01230123012\", 30], [\"01230123012\", 30], [\"01230123012\", 30], [\"01230123012\", 30], [\"01230123012\", 30], [\"01230123012\", 30], [\"01230123012\", 30], [\"01230123012\", 30], \"costs\": {\"u3\": 20000, \"cx\": 10000, \"barrier\": 20, \"measure\": 20}}\n",
    "```\n"
   ]
  },
  {
   "cell_type": "markdown",
   "metadata": {},
   "source": [
    "## Submission File Creation Program"
   ]
  },
  {
   "cell_type": "code",
   "execution_count": null,
   "metadata": {},
   "outputs": [],
   "source": [
    "# Input your quantum circuit\n",
    "circuit='Input your circuit'\n",
    "# Input your result of the execute(groverCircuit, backend=backend, shots=shots).result()\n",
    "results = 'Input your result'\n",
    "count=results.get_counts()\n",
    "# Provide your team name\n",
    "name='Input your team name as exactly as you inputted it in the team details form'\n",
    "# Please indicate the number of times you have made a submission so far. \n",
    "# For example, if it's your 1st time to submit your answer, write 1. If it's your 5th time to submit your answer, write 5.\n",
    "times='Input the number of times you have made your submissions so far'"
   ]
  },
  {
   "cell_type": "code",
   "execution_count": null,
   "metadata": {},
   "outputs": [],
   "source": [
    "import json\n",
    "from qiskit.transpiler import PassManager\n",
    "from qiskit.transpiler.passes import Unroller\n",
    "\n",
    "# Unroll the circuit\n",
    "pass_ = Unroller(['u3', 'cx'])\n",
    "pm = PassManager(pass_)\n",
    "new_circuit = pm.run(circuit) \n",
    "\n",
    "# obtain gates\n",
    "gates=new_circuit.count_ops()\n",
    "\n",
    "#sort count\n",
    "count_sorted = sorted(count.items(), key=lambda x:x[1], reverse=True)\n",
    "\n",
    "# collect answers with Top 9 probability\n",
    "ans_list = count_sorted[0:9]\n",
    "\n",
    "# reverse ans_list\n",
    "ans_reversed = []\n",
    "for i in ans_list:\n",
    "    ans_temp=[i[0][::-1],i[1]]\n",
    "    ans_reversed.append(ans_temp)\n",
    "\n",
    "# convert each 2 bits into corresponding color. Add node0(0),node3(1),node8(2) and node11(3)\n",
    "ans_shaped = []\n",
    "for j in ans_reversed:\n",
    "    ans_temp=j[0]\n",
    "    nodeA = 0\n",
    "    node0 = int(ans_temp[0] + ans_temp[1], 2)\n",
    "    node1 = int(ans_temp[2] + ans_temp[3], 2)\n",
    "    nodeB = 1\n",
    "    node2 = int(ans_temp[4] + ans_temp[5], 2)\n",
    "    node3 = int(ans_temp[6] + ans_temp[7], 2)\n",
    "    node4 = int(ans_temp[8] + ans_temp[9], 2)\n",
    "    nodeC = 2\n",
    "    node5 = int(ans_temp[10] + ans_temp[11], 2)\n",
    "    node6 = int(ans_temp[12] + ans_temp[13], 2)\n",
    "    nodeD = 3\n",
    "    nodes_color = str(nodeA) + str(node0) + str(node1) + str(nodeB) + str(node2) + str(node3) + str(node4) + str(nodeC) + str(node5) + str(node6) + str(nodeD) \n",
    "    ans_shaped.append([nodes_color,j[1]])\n",
    "\n",
    "# write the result into '[your name]_final_output.txt'\n",
    "filename=name+'_'+times+'_final_output.txt'\n",
    "dct={'ans':ans_shaped,'costs':gates}\n",
    "with open(filename, 'w') as f:\n",
    "    json.dump(dct, f)"
   ]
  },
  {
   "cell_type": "markdown",
   "metadata": {},
   "source": [
    "## Verification Program"
   ]
  },
  {
   "cell_type": "code",
   "execution_count": null,
   "metadata": {},
   "outputs": [],
   "source": [
    "# Input the path of your submission file\n",
    "your_path='./output/bob_1_final_output.txt'"
   ]
  },
  {
   "cell_type": "code",
   "execution_count": null,
   "metadata": {},
   "outputs": [],
   "source": [
    "import json\n",
    "from pathlib import Path\n",
    "\n",
    "p= Path(your_path)\n",
    "\n",
    "# Verify your information\n",
    "f_name=p.name\n",
    "your_info=f_name.split('_')\n",
    "print('Your name: ', your_info[0])\n",
    "print('The number of times you have submitted your answer: ', your_info[1])\n",
    "\n",
    "with open(p, 'r') as f:\n",
    "    print(f)\n",
    "    your_ans=json.load(f)\n",
    "\n",
    "print('Does your submission file have 9 answers?')\n",
    "if (len(your_ans['ans'])!=9):\n",
    "    print('- No, make sure you have 9 answers with top 9 probabilities')\n",
    "else:\n",
    "    print('- Yes')\n",
    "    print('- Your plan: ', your_ans['ans'])\n",
    "\n",
    "print('What is your cost?')\n",
    "your_cost=your_ans['costs']['u3'] + 10*your_ans['costs']['cx']"
   ]
  }
 ],
 "metadata": {
  "kernelspec": {
   "display_name": "Python 3",
   "language": "python",
   "name": "python3"
  },
  "language_info": {
   "codemirror_mode": {
    "name": "ipython",
    "version": 3
   },
   "file_extension": ".py",
   "mimetype": "text/x-python",
   "name": "python",
   "nbconvert_exporter": "python",
   "pygments_lexer": "ipython3",
   "version": "3.7.3"
  }
 },
 "nbformat": 4,
 "nbformat_minor": 2
}
