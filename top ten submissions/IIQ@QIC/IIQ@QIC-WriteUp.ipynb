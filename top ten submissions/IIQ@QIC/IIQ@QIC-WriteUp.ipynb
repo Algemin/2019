{
 "cells": [
  {
   "cell_type": "markdown",
   "metadata": {},
   "source": [
    "# Submission of Team *IIQ@QIC*\n",
    "\n",
    "We are the team \"IIQ@QIC\" from the [Johannes Kepler University Linz (JKU)](http://iic.jku.at/eda/research/quantum/). \n",
    "This jupyter notebook describes the essential parts of our submitted Python script, i.e., the code building the circuit without the parts that submit the circuit to IBMQ and create the answer file. \n",
    "We would like to thank the people at IBM and Anglehack for organizing the challenge, which was great fun and deepened our understanding of quantum computing.\n",
    "\n",
    "\n",
    "For the problem at hand, we organized the 32 available qubits in the following layout `[start:end)`:\n",
    "```\n",
    "  0:14 input qubits representing the color of each node\n",
    " 14:17 \"tree\" ancillae\n",
    " 15:22 \"mct ancillae\"\n",
    " 22:31 interim targets\n",
    " 31:32 final target (a single qubit)\n",
    "(18:29 ancillae for the diffusion phase)\n",
    "```\n",
    "## Python Preparation\n",
    "\n",
    "The following snippet shows the preparations required to run the code.\n",
    "\n",
    "First, the necessary packages are imported from Qiskit and the standard library."
   ]
  },
  {
   "cell_type": "code",
   "execution_count": 1,
   "metadata": {},
   "outputs": [],
   "source": [
    "from qiskit import execute, IBMQ\n",
    "from qiskit import QuantumRegister, ClassicalRegister, QuantumCircuit\n",
    "from qiskit.qasm import pi\n",
    "from qiskit.transpiler import PassManager\n",
    "from qiskit.transpiler.passes import Unroller\n",
    "\n",
    "from typing import Tuple, Sequence"
   ]
  },
  {
   "cell_type": "markdown",
   "metadata": {},
   "source": [
    "In order to have meaningful type hints and to avoid magic numbers, the following constants are defined."
   ]
  },
  {
   "cell_type": "code",
   "execution_count": 2,
   "metadata": {},
   "outputs": [],
   "source": [
    "# Type names\n",
    "Node = int\n",
    "Qubit = int\n",
    "# Constants to distinguish kombini brands\n",
    "A = 10\n",
    "B = 11\n",
    "C = 12\n",
    "D = 13\n",
    "AC = 14"
   ]
  },
  {
   "cell_type": "markdown",
   "metadata": {},
   "source": [
    "## Building Blocks of our Approach\n",
    "\n",
    "The methods provided by Qiskit have to work in the general case, which wasn't what we strictly needed in our approach.\n",
    "Therefore we optimized these methods to suit our needs while incurring less costs.\n",
    "\n",
    "In the following, we have implemented the [CCX](https://github.com/Qiskit/qiskit-terra/blob/e0e6da5b293807fa1a264e1b29b33fb6188d010e/qiskit/extensions/standard/ccx.py#L85) and [MCT](https://github.com/Qiskit/qiskit-aqua/blob/b9bfa31d01d2cb87475aae077ee52fe2c12775e9/qiskit/aqua/circuits/gates/multi_control_toffoli_gate.py#L32) operations, that ensure the correct phase, based on the code available in Qiskit."
   ]
  },
  {
   "cell_type": "code",
   "execution_count": 3,
   "metadata": {},
   "outputs": [],
   "source": [
    "def ccx_opt(qc: QuantumCircuit, a: Qubit, b: Qubit, target: Qubit) -> None:\n",
    "    qc.cx(b, target)\n",
    "    qc.tdg(target)\n",
    "    qc.cx(a, target)\n",
    "    qc.t(target)\n",
    "    qc.cx(b, target)\n",
    "    qc.tdg(target)\n",
    "    qc.cx(a, target)\n",
    "    qc.t(b)\n",
    "    qc.t(target)\n",
    "    qc.cx(a, b)\n",
    "    qc.t(a)\n",
    "    qc.tdg(b)\n",
    "    qc.cx(a, b)"
   ]
  },
  {
   "cell_type": "code",
   "execution_count": 4,
   "metadata": {},
   "outputs": [],
   "source": [
    "def my_mct_v_chain(qc: QuantumCircuit, control_qubits: Sequence[Qubit], target_qubit: Qubit, ancillary_qubits: Sequence[Qubit]) -> None:\n",
    "    if len(ancillary_qubits) < len(control_qubits) - 2:\n",
    "        raise ValueError('Insufficient number of ancillary qubits.')\n",
    "\n",
    "    anci_idx = 0\n",
    "    qc.z(ancillary_qubits[anci_idx])\n",
    "    rccx_opt(qc, control_qubits[0], control_qubits[1], ancillary_qubits[anci_idx], \"left\")\n",
    "    for idx in range(2, len(control_qubits) - 1):\n",
    "        if anci_idx == 0:\n",
    "            qc.z(ancillary_qubits[anci_idx + 1])\n",
    "            rccx_opt(qc, control_qubits[idx], ancillary_qubits[anci_idx], ancillary_qubits[anci_idx + 1], \"left\")\n",
    "        else:\n",
    "            rccx_opt(qc, control_qubits[idx], ancillary_qubits[anci_idx], ancillary_qubits[anci_idx + 1], \"left\")\n",
    "        anci_idx += 1\n",
    "\n",
    "    ccx_opt(qc, control_qubits[len(control_qubits) - 1], ancillary_qubits[anci_idx], target_qubit)\n",
    "\n",
    "    for idx in reversed(range(2, len(control_qubits) - 1)):\n",
    "        if anci_idx == 1:\n",
    "            rccx_opt(qc, control_qubits[idx], ancillary_qubits[anci_idx - 1], ancillary_qubits[anci_idx], \"right\")\n",
    "            qc.z(ancillary_qubits[anci_idx])\n",
    "        else:\n",
    "            rccx_opt(qc, control_qubits[idx], ancillary_qubits[anci_idx - 1], ancillary_qubits[anci_idx], \"right\")\n",
    "        anci_idx -= 1\n",
    "    rccx_opt(qc, control_qubits[0], control_qubits[1], ancillary_qubits[anci_idx], \"right\")\n",
    "    qc.z(ancillary_qubits[anci_idx])"
   ]
  },
  {
   "attachments": {},
   "cell_type": "markdown",
   "metadata": {},
   "source": [
    "In addition to CCX/MCT above, we also took the Qiskit code and implemented versions of those functions that are cheaper but are only correct up to the relative phase ([`rccx`](https://github.com/Qiskit/qiskit-aqua/blob/b9bfa31d01d2cb87475aae077ee52fe2c12775e9/qiskit/aqua/circuits/gates/relative_phase_toffoli.py#L60)).\n",
    "These implementations take an additional parameter which describes the `side`it is applied on. \n",
    "\n",
    "Consider the following illustration, which shows how to check that nodes 0 and 1 as well as 2 and 3 are different, respectively. Specifying the side allows to omit the gates highlighted in red, as they would cancel each other anyway.\n",
    "\n",
    "**Figure 1**: ![side.png](fig/side.png)"
   ]
  },
  {
   "cell_type": "code",
   "execution_count": 5,
   "metadata": {},
   "outputs": [],
   "source": [
    "def rccx_opt(qc: QuantumCircuit, a: Qubit, b: Qubit, target: Qubit, side:str=\"both\") -> None:\n",
    "    if side in (\"both\", \"right\"):\n",
    "        qc.u2(pi / 4, pi, target)       # -H-T-\n",
    "    qc.cx(b, target)\n",
    "    qc.tdg(target)\n",
    "    qc.cx(a, target)\n",
    "    qc.t(target)\n",
    "    qc.cx(b, target)\n",
    "    if side in (\"both\", \"left\"):\n",
    "        qc.u2(0, 3 * pi / 4, target)    # -Tdg-H-"
   ]
  },
  {
   "cell_type": "code",
   "execution_count": 6,
   "metadata": {},
   "outputs": [],
   "source": [
    "def my_rmct_v_chain(qc: QuantumCircuit, control_qubits: Sequence[Qubit], target_qubit: Qubit, ancillary_qubits: Sequence[Qubit], side: str=\"both\") -> None:\n",
    "    if len(ancillary_qubits) < len(control_qubits) - 2:\n",
    "        raise ValueError('Insufficient number of ancillary qubits.')\n",
    "    \n",
    "    anci_idx = 0\n",
    "    rccx_opt(qc, control_qubits[0], control_qubits[1], ancillary_qubits[anci_idx], \"left\")\n",
    "    for idx in range(2, len(control_qubits) - 1):\n",
    "        rccx_opt(qc, control_qubits[idx], ancillary_qubits[anci_idx], ancillary_qubits[anci_idx + 1])\n",
    "        anci_idx += 1\n",
    "\n",
    "    rccx_opt(qc, control_qubits[len(control_qubits) - 1], ancillary_qubits[anci_idx], target_qubit, side)\n",
    "\n",
    "    for idx in reversed(range(2, len(control_qubits) - 1)):\n",
    "        rccx_opt(qc, control_qubits[idx], ancillary_qubits[anci_idx - 1], ancillary_qubits[anci_idx])\n",
    "        anci_idx -= 1\n",
    "    rccx_opt(qc, control_qubits[0], control_qubits[1], ancillary_qubits[anci_idx], \"right\")"
   ]
  },
  {
   "cell_type": "markdown",
   "metadata": {},
   "source": [
    "## Constraining Possible Results\n",
    "\n",
    "Given the building blocks introduced above, the following functions encode the constraints of the problem in a bottom-up fashion. \n",
    "First we define functions that ensure a node is different from a fixed *A*, *B*, *C*, or *D* (or *AC* for node 2) as well as a function that ensures two given nodes are assigned different colors/brands."
   ]
  },
  {
   "cell_type": "code",
   "execution_count": 7,
   "metadata": {},
   "outputs": [],
   "source": [
    "def aXor(a: Sequence[Qubit], target: Qubit, side: str) -> None:\n",
    "    rccx_opt(qc, a[0], a[1], target, side)\n",
    "\n",
    "\n",
    "def bXor(a: Sequence[Qubit], target: Qubit, side: str) -> None:\n",
    "    if side in (\"left\"):\n",
    "        qc.x(a[0])\n",
    "\n",
    "    rccx_opt(qc, a[0], a[1], target, side)\n",
    "\n",
    "    if side in (\"right\"):\n",
    "        qc.x(a[0])\n",
    "\n",
    "\n",
    "def cXor(a: Sequence[Qubit], target: Qubit, side: str) -> None:\n",
    "    if side in (\"left\"):\n",
    "        qc.x(a[1])\n",
    "\n",
    "    rccx_opt(qc, a[0], a[1], target, side)\n",
    "\n",
    "    if side in (\"right\"):\n",
    "        qc.x(a[1])\n",
    "\n",
    "\n",
    "def dXor(a: Sequence[Qubit], target: Qubit, side: str) -> None:\n",
    "    rccx_opt(qc, a[0], a[1], target, side)\n",
    "\n",
    "\n",
    "def acXor(a: Sequence[Qubit], target: Qubit, side: str) -> None:\n",
    "    if side in (\"left\"):\n",
    "        qc.x(a[1])\n",
    "    qc.cx(a[1], target)\n",
    "    if side in (\"right\"):\n",
    "        qc.x(a[1])"
   ]
  },
  {
   "attachments": {},
   "cell_type": "markdown",
   "metadata": {},
   "source": [
    "Given qubits representing nodes *a* and *b*, their colors/brands are different if $(a_0 \\oplus b_0) \\lor (a_1 \\oplus b_1)$. \n",
    "The circuit representation is shown in the following:\n",
    "\n",
    "**Figure 2**: ![value_xor.png](fig/value_xor.png)\n",
    "\n",
    "Note this does not require any ancillary qubits and the effects of the computation are *uncomputed* afterwards to restore the previous state.\n",
    "The function below has an additional parameter `side` to save gates in the same fashion as explained for the building blocks above."
   ]
  },
  {
   "cell_type": "code",
   "execution_count": 8,
   "metadata": {},
   "outputs": [],
   "source": [
    "def valueXor_noancilla(a: Sequence[Qubit], b: Sequence[Qubit], target: Qubit, side: str):\n",
    "    if side == \"left\":\n",
    "        qc.cx(a[0], b[0])\n",
    "        qc.cx(a[1], b[1])\n",
    "\n",
    "        if b != [q[6], q[7]]:\n",
    "            qc.x(b[0])\n",
    "            qc.x(b[1])\n",
    "\n",
    "        rccx_opt(qc, b[0], b[1], target, side)\n",
    "    elif side == \"right\":\n",
    "        rccx_opt(qc, b[0], b[1], target, side)\n",
    "\n",
    "        if b != [q[6], q[7]]:\n",
    "            qc.x(b[1])\n",
    "            qc.x(b[0])\n",
    "\n",
    "        qc.cx(a[1], b[1])\n",
    "        qc.cx(a[0], b[0])\n",
    "    else:\n",
    "        raise ValueError(\"side was neither left nor right\")"
   ]
  },
  {
   "cell_type": "markdown",
   "metadata": {},
   "source": [
    "The functions defined above are now composed to handle the general case, where (at least) one parameter is an actual node and the second parameter possibly is one of the preassigned nodes."
   ]
  },
  {
   "cell_type": "code",
   "execution_count": 9,
   "metadata": {},
   "outputs": [],
   "source": [
    "def constrain_nodes(a: Node, b: Node, target: Qubit, side: str) -> None:\n",
    "    c, d = sorted((a, b))\n",
    "    if c < 0 or c > 6 or d < 0 or (d > 6 and d not in (A, B, C, D, AC)):\n",
    "        raise ValueError()\n",
    "    a_slice = slice(2 * a, 2 * a + 2)\n",
    "    b_slice = slice(2 * b, 2 * b + 2)\n",
    "    if d < A:\n",
    "        valueXor_noancilla(q[a_slice], q[b_slice], q[target], side)\n",
    "    elif b == A:\n",
    "        aXor(q[a_slice], q[target], side)\n",
    "    elif b == B:\n",
    "        bXor(q[a_slice], q[target], side)\n",
    "    elif b == C:\n",
    "        cXor(q[a_slice], q[target], side)\n",
    "    elif b == D:\n",
    "        dXor(q[a_slice], q[target], side)\n",
    "    elif b == AC:\n",
    "        acXor(q[a_slice], q[target], side)\n",
    "    else:\n",
    "        raise ValueError()"
   ]
  },
  {
   "cell_type": "markdown",
   "metadata": {},
   "source": [
    "Due to the restricted number of qubits in the competition, we constrain two pairs of nodes at once and save the result on another qubit (cf. Figure 1).\n",
    "For our implementation, we need 8 of these target qubits to save the result.\n",
    "Furthermore, we use ancillary qubits to store the interim results.\n",
    "\n",
    "After determining whether the nodes are different, the computation has to be reversed to ensure the inputs are not altered and may be re-used."
   ]
  },
  {
   "cell_type": "code",
   "execution_count": 10,
   "metadata": {},
   "outputs": [],
   "source": [
    "def constrain_pair(pair_a: Tuple[Node, Node], pair_b: Tuple[Node, Node], target: Qubit, side=\"both\") -> None:\n",
    "    if len({pair_a[0], pair_a[1], pair_b[0], pair_b[1]}) != 4:\n",
    "        raise ValueError('Nodes need to be different.')\n",
    "\n",
    "    constrain_nodes(pair_a[0], pair_a[1], ANC_1, \"left\")\n",
    "    constrain_nodes(pair_b[0], pair_b[1], ANC_2, \"left\")\n",
    "    rccx_opt(qc, q[ANC_1], q[ANC_2], q[target], side)\n",
    "    constrain_nodes(pair_b[0], pair_b[1], ANC_2, \"right\")\n",
    "    constrain_nodes(pair_a[0], pair_a[1], ANC_1, \"right\")"
   ]
  },
  {
   "cell_type": "markdown",
   "metadata": {},
   "source": [
    "Node 2 is special in the sense that it cannot assume the colors/brands *A* and *C*. This property is exploited to save costs since due to the representation required in the challenge `q[5]` simply has to be *1*."
   ]
  },
  {
   "cell_type": "code",
   "execution_count": 11,
   "metadata": {},
   "outputs": [],
   "source": [
    "def constrain_pair_ac(pair_a: Tuple[Node, Node], target: Qubit, side=\"both\") -> None:\n",
    "    constrain_nodes(pair_a[0], pair_a[1], ANC_1, \"left\")\n",
    "    rccx_opt(qc, q[ANC_1], q[5], q[target], side)\n",
    "    constrain_nodes(pair_a[0], pair_a[1], ANC_1, \"right\")"
   ]
  },
  {
   "cell_type": "markdown",
   "metadata": {},
   "source": [
    "Another exploitable property that is obvious by just looking at the graph, is the edge between nodes 0 and 1 can be replaced by introducing two \"virtual\" edges $(0,D)$ and $(1,C)$."
   ]
  },
  {
   "cell_type": "code",
   "execution_count": 12,
   "metadata": {},
   "outputs": [],
   "source": [
    "def constrain_pair_0a_1b(target: Qubit, side=\"both\") -> None:\n",
    "    qc.cx(q[0], q[1])\n",
    "    qc.cx(q[2], q[3])\n",
    "    if side in (\"right\", \"both\"):\n",
    "        qc.x(q[3])\n",
    "    rccx_opt(qc, q[1], q[3], q[target], side)\n",
    "    if side in (\"left\", \"both\"):\n",
    "        qc.x(q[3])\n",
    "    qc.cx(q[2], q[3])\n",
    "    qc.cx(q[0], q[1])"
   ]
  },
  {
   "cell_type": "markdown",
   "metadata": {},
   "source": [
    "The `oracle` calls the functions defined above with the appropriate parameters as defined by the graph given in the problem description.\n",
    "\n",
    "First, node 0 and 1 are constrained as per the property described above -- followed by the constraints for node 2.\n",
    "The calls to `constrain_pair(...)` correspond to the edges in the graph. \n",
    "The last three edges are handled as a triple instead of a pair to reduce the costs. \n",
    "Note that it suffices to calculate these intermediate results up to relative phase.\n",
    "\n",
    "The call to `my_mct_v_chain(...)` negates our final target qubit. Due to the qubit preparation shown below, this results in a phase flip as required by Grover's algorithm."
   ]
  },
  {
   "cell_type": "code",
   "execution_count": 13,
   "metadata": {},
   "outputs": [],
   "source": [
    "def oracle() -> None:\n",
    "    constrain_pair_0a_1b(22, \"left\")\n",
    "    qc.barrier()\n",
    "    constrain_pair_ac((4, B), 23, \"left\")\n",
    "    qc.barrier()\n",
    "    constrain_pair((3, A), (6, D), 24, \"left\")\n",
    "    qc.barrier()\n",
    "    constrain_pair((2, 3), (5, D), 25, \"left\")\n",
    "    qc.barrier()\n",
    "    constrain_pair((6, 3), (0, 2), 26, \"left\")\n",
    "    qc.barrier()\n",
    "    constrain_pair((5, 2), (4, 3), 27, \"left\")\n",
    "    qc.barrier()\n",
    "    constrain_pair((5, 6), (0, 3), 28, \"left\")\n",
    "    qc.barrier()\n",
    "    constrain_pair((4, 6), (1, 3), 29, \"left\")\n",
    "    qc.barrier()\n",
    "\n",
    "    constrain_nodes(5, 3, ANC_1, \"left\")\n",
    "    constrain_nodes(2, 6, ANC_2, \"left\")\n",
    "    constrain_nodes(4, 1, ANC_3, \"left\")\n",
    "    my_rmct_v_chain(qc, [q[ANC_1], q[ANC_2], q[ANC_3]], q[30], q[17:22], \"left\")\n",
    "\n",
    "    rccx_opt(qc, q[2], q[3], q[ANC_2], \"right\")\n",
    "    rccx_opt(qc, q[12], q[13], q[ANC_3], \"right\")\n",
    "    qc.barrier()\n",
    "\n",
    "    my_mct_v_chain(qc, q[22:31], q[31], q[15:22])\n",
    "\n",
    "    qc.barrier()\n",
    "    rccx_opt(qc, q[12], q[13], q[ANC_3], \"left\")\n",
    "    rccx_opt(qc, q[2], q[3], q[ANC_2], \"left\")\n",
    "\n",
    "    my_rmct_v_chain(qc, [q[ANC_1], q[ANC_2], q[ANC_3]], q[30], q[17:22], \"right\")\n",
    "    constrain_nodes(4, 1, ANC_3, \"right\")\n",
    "    constrain_nodes(2, 6, ANC_2, \"right\")\n",
    "    constrain_nodes(5, 3, ANC_1, \"right\")\n",
    "\n",
    "    qc.barrier()\n",
    "    constrain_pair((4, 6), (1, 3), 29, \"right\")\n",
    "    qc.barrier()\n",
    "    constrain_pair((5, 6), (0, 3), 28, \"right\")\n",
    "    qc.barrier()\n",
    "    constrain_pair((5, 2), (4, 3), 27, \"right\")\n",
    "    qc.barrier()\n",
    "    constrain_pair((6, 3), (0, 2), 26, \"right\")\n",
    "    qc.barrier()\n",
    "    constrain_pair((2, 3), (5, D), 25, \"right\")\n",
    "    qc.barrier()\n",
    "    constrain_pair((3, A), (6, D), 24, \"right\")\n",
    "    qc.barrier()\n",
    "    constrain_pair_ac((4, B), 23, \"right\")\n",
    "    qc.barrier()\n",
    "    constrain_pair_0a_1b(22, \"right\")\n",
    "    qc.barrier()"
   ]
  },
  {
   "cell_type": "markdown",
   "metadata": {},
   "source": [
    "The diffusion is the default Grover diffusion with single qubit gates fused where appropriate."
   ]
  },
  {
   "cell_type": "code",
   "execution_count": 14,
   "metadata": {},
   "outputs": [],
   "source": [
    "def diffusion() -> None:\n",
    "    qc.u2(0, 0, q[0:3])                 # -H-X-\n",
    "    qc.u3(3 * pi / 2, 0, pi, q[3])      # -X-H-X\n",
    "    qc.u2(0, 0, q[4:6])                 # -H-X-\n",
    "    qc.u3(3 * pi / 2, 0, pi, q[6:8])    # -X-H-X\n",
    "    qc.u2(0, 0, q[8:13])                # -H-X-\n",
    "    qc.u2(0, 0, q[13])                  # -Z-H-\n",
    "\n",
    "    anci_idx = 0\n",
    "    rccx_opt(qc, q[0], q[1], q[18+anci_idx], \"left\")\n",
    "    for idx in range(2, 12):\n",
    "        rccx_opt(qc, q[idx], q[18+anci_idx], q[18+anci_idx+1], \"left\")\n",
    "        anci_idx += 1\n",
    "\n",
    "    qc.cx(q[18+anci_idx], q[13])\n",
    "    qc.tdg(q[13])\n",
    "    qc.cx(q[12], q[13])\n",
    "    qc.t(q[13])\n",
    "    qc.cx(q[18+anci_idx], q[13])\n",
    "    qc.tdg(q[13])\n",
    "    qc.cx(q[12], q[13])\n",
    "    qc.t(q[18+anci_idx])\n",
    "    qc.cx(q[12], q[18+anci_idx])\n",
    "    qc.t(q[12])\n",
    "    qc.tdg(q[18+anci_idx])\n",
    "    qc.cx(q[12], q[18+anci_idx])\n",
    "\n",
    "    for idx in reversed(range(2, 12)):\n",
    "        rccx_opt(qc, q[idx], q[18+anci_idx - 1], q[18+anci_idx], \"right\")\n",
    "        anci_idx -= 1\n",
    "    rccx_opt(qc, q[0], q[1], q[18+anci_idx], \"right\")\n",
    "\n",
    "    qc.u2(pi, 5*pi/4, q[13])            # -T-H-Z-\n",
    "    qc.u2(pi, pi, q[8:13])              # -X-H-\n",
    "    qc.u3(3 * pi / 2, 0, pi, q[6:8])    # -X-H-X-\n",
    "    qc.u2(pi, pi, q[4:6])               # -X-H-\n",
    "    qc.u3(3 * pi / 2, 0, pi, q[3])      # -X-H-X-\n",
    "    qc.u2(pi, pi, q[0:3])               # -X-H-"
   ]
  },
  {
   "cell_type": "markdown",
   "metadata": {},
   "source": [
    "The challenge required to use Grover's algorithm with 5 iterations.\n",
    "In the code below we prepare the qubits for the algorithm and fuse consecutive single qubit gates."
   ]
  },
  {
   "cell_type": "code",
   "execution_count": 15,
   "metadata": {},
   "outputs": [
    {
     "data": {
      "text/plain": [
       "<qiskit.circuit.instructionset.InstructionSet at 0x7fc495314b38>"
      ]
     },
     "execution_count": 15,
     "metadata": {},
     "output_type": "execute_result"
    }
   ],
   "source": [
    "q = QuantumRegister(32, 'q')\n",
    "c = ClassicalRegister(14, 'c')\n",
    "qc = QuantumCircuit(q, c)\n",
    "ANC_1 = 14\n",
    "ANC_2 = 15\n",
    "ANC_3 = 16\n",
    "\n",
    "# preparation\n",
    "qc.h(q[0:3])  # -H-\n",
    "qc.u2(0, 0, q[3])  # -H-X- implicitly negate q[3]\n",
    "qc.h(q[4:6])  # -H-\n",
    "qc.u2(0, 0, q[6:8])  # -H-X- implicitly negate the '3' qubits\n",
    "qc.h(q[8:14])  # -H-\n",
    "qc.u2(5 * pi / 4, pi, q[14:17])  # -X-H-T- prepare \"tree\" ancilla\n",
    "qc.u2(pi / 4, pi, q[17:31])  # -H-T- prepare \"mct\" ancilla\n",
    "qc.x(q[31])  # -X- prepare target\n",
    "\n",
    "for _ in range(5):\n",
    "    oracle()\n",
    "    diffusion()\n",
    "\n",
    "qc.x(q[6:8])  # reverse the negation of the '3' qubits\n",
    "qc.x(q[3])  # reverse the negation of q[3]\n",
    "\n",
    "# final measurement\n",
    "qc.measure(q[0:14], c[0:14])"
   ]
  },
  {
   "cell_type": "markdown",
   "metadata": {},
   "source": [
    "## Costs of our Approach\n",
    "\n",
    "While we omitted the code to submit the circuit to IBM Q, calculating the cost is fast and, thus, included in this write-up."
   ]
  },
  {
   "cell_type": "code",
   "execution_count": 16,
   "metadata": {},
   "outputs": [
    {
     "name": "stdout",
     "output_type": "stream",
     "text": [
      "gates: {'cx': 2320, 'u3': 2290, 'barrier': 95, 'measure': 14}\n",
      "costs: 25490\n"
     ]
    }
   ],
   "source": [
    "pass_ = Unroller(['u3', 'cx'])\n",
    "pm = PassManager(pass_)\n",
    "unrolled_circuit = pm.run(qc)\n",
    "uc_gates = unrolled_circuit.count_ops()\n",
    "print('gates: {}'.format(dict(uc_gates)))\n",
    "print('costs: {}'.format(uc_gates['cx'] * 10 + uc_gates['u3']))"
   ]
  }
 ],
 "metadata": {
  "kernelspec": {
   "display_name": "Python 3",
   "language": "python",
   "name": "python3"
  },
  "language_info": {
   "codemirror_mode": {
    "name": "ipython",
    "version": 3
   },
   "file_extension": ".py",
   "mimetype": "text/x-python",
   "name": "python",
   "nbconvert_exporter": "python",
   "pygments_lexer": "ipython3",
   "version": "3.6.8"
  },
  "pycharm": {
   "stem_cell": {
    "cell_type": "raw",
    "metadata": {
     "collapsed": false
    },
    "source": []
   }
  }
 },
 "nbformat": 4,
 "nbformat_minor": 4
}
